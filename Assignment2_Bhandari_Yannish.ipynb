{
  "cells": [
    {
      "cell_type": "markdown",
      "metadata": {
        "id": "e6JyvVegaj7U"
      },
      "source": [
        "## STATISTICS FOR DATA SCIENCE INDIVIDUAL ASSIGNMENT 2"
      ]
    },
    {
      "cell_type": "markdown",
      "metadata": {},
      "source": [
        "## - By Yannish Bhandari"
      ]
    },
    {
      "cell_type": "code",
      "execution_count": 1,
      "metadata": {
        "colab": {
          "base_uri": "https://localhost:8080/",
          "height": 621,
          "referenced_widgets": [
            "a34e98348b77465392856fa8bfbd4a34",
            "e74c84fb45804beb90daaa54d3c09894"
          ]
        },
        "id": "GM1OVXcYhmvY",
        "outputId": "a9451062-eb33-43ca-d214-68328e4cd89a"
      },
      "outputs": [
        {
          "name": "stderr",
          "output_type": "stream",
          "text": [
            "/opt/anaconda3/lib/python3.11/site-packages/_distutils_hack/__init__.py:33: UserWarning: Setuptools is replacing distutils.\n",
            "  warnings.warn(\"Setuptools is replacing distutils.\")\n"
          ]
        }
      ],
      "source": [
        "import pip\n",
        "def import_or_install(package):\n",
        "    try:\n",
        "        __import__(package)\n",
        "    except ImportError:\n",
        "        pip.main(['install', package])\n",
        "\n",
        "import math\n",
        "import pandas as pd\n",
        "import numpy as np\n",
        "import scipy.stats as st\n",
        "import matplotlib.pyplot as plt\n",
        "import_or_install('pingouin') # We need this library to have our normality test graph\n",
        "import pingouin as pg"
      ]
    },
    {
      "cell_type": "markdown",
      "metadata": {
        "id": "VuU79fNED0tK"
      },
      "source": [
        "## Exercise 1"
      ]
    },
    {
      "cell_type": "markdown",
      "metadata": {
        "id": "hmRI50iAD-Hp"
      },
      "source": [
        "1. Consider the data census.csv as a whole population, obtain the following statistics for the variables age and **hours_per_week**:\n",
        "\n",
        "*   Mean\n",
        "*   Standard deviation\n",
        "\n",
        "\n",
        "2. Randomly select different sample sizes and show how different proportion selection bias the mean and SD results.\n",
        "\n",
        "3. Calculate the minimum sample size for a confidence level of 95% and a margin of error of 3%\n"
      ]
    },
    {
      "cell_type": "markdown",
      "metadata": {
        "id": "3Sba5AbUB5UH"
      },
      "source": [
        "### 1. Calculate main stats"
      ]
    },
    {
      "cell_type": "code",
      "execution_count": 2,
      "metadata": {
        "id": "P_P4N1TbyUx6"
      },
      "outputs": [],
      "source": [
        "# First, we are going to import our libraries\n",
        "import math\n",
        "import pandas as pd\n",
        "import numpy as np"
      ]
    },
    {
      "cell_type": "code",
      "execution_count": 3,
      "metadata": {
        "colab": {
          "base_uri": "https://localhost:8080/",
          "height": 565
        },
        "id": "boERjnlND9p3",
        "outputId": "a647bdbe-30a3-4f06-9f4d-3a8d4a498d06"
      },
      "outputs": [
        {
          "data": {
            "text/html": [
              "<div>\n",
              "<style scoped>\n",
              "    .dataframe tbody tr th:only-of-type {\n",
              "        vertical-align: middle;\n",
              "    }\n",
              "\n",
              "    .dataframe tbody tr th {\n",
              "        vertical-align: top;\n",
              "    }\n",
              "\n",
              "    .dataframe thead th {\n",
              "        text-align: right;\n",
              "    }\n",
              "</style>\n",
              "<table border=\"1\" class=\"dataframe\">\n",
              "  <thead>\n",
              "    <tr style=\"text-align: right;\">\n",
              "      <th></th>\n",
              "      <th>age</th>\n",
              "      <th>workclass</th>\n",
              "      <th>education</th>\n",
              "      <th>education_num</th>\n",
              "      <th>marital_status</th>\n",
              "      <th>occupation</th>\n",
              "      <th>relationship</th>\n",
              "      <th>race</th>\n",
              "      <th>gender</th>\n",
              "      <th>hours_per_week</th>\n",
              "      <th>native_country</th>\n",
              "      <th>greater_than_50k</th>\n",
              "    </tr>\n",
              "  </thead>\n",
              "  <tbody>\n",
              "    <tr>\n",
              "      <th>0</th>\n",
              "      <td>39</td>\n",
              "      <td>State-gov</td>\n",
              "      <td>Bachelors</td>\n",
              "      <td>13</td>\n",
              "      <td>Never-married</td>\n",
              "      <td>Adm-clerical</td>\n",
              "      <td>Not-in-family</td>\n",
              "      <td>White</td>\n",
              "      <td>Male</td>\n",
              "      <td>40</td>\n",
              "      <td>United-States</td>\n",
              "      <td>0</td>\n",
              "    </tr>\n",
              "    <tr>\n",
              "      <th>1</th>\n",
              "      <td>50</td>\n",
              "      <td>Self-emp-not-inc</td>\n",
              "      <td>Bachelors</td>\n",
              "      <td>13</td>\n",
              "      <td>Married-civ-spouse</td>\n",
              "      <td>Exec-managerial</td>\n",
              "      <td>Husband</td>\n",
              "      <td>White</td>\n",
              "      <td>Male</td>\n",
              "      <td>13</td>\n",
              "      <td>United-States</td>\n",
              "      <td>0</td>\n",
              "    </tr>\n",
              "    <tr>\n",
              "      <th>2</th>\n",
              "      <td>38</td>\n",
              "      <td>Private</td>\n",
              "      <td>HS-grad</td>\n",
              "      <td>9</td>\n",
              "      <td>Divorced</td>\n",
              "      <td>Handlers-cleaners</td>\n",
              "      <td>Not-in-family</td>\n",
              "      <td>White</td>\n",
              "      <td>Male</td>\n",
              "      <td>40</td>\n",
              "      <td>United-States</td>\n",
              "      <td>0</td>\n",
              "    </tr>\n",
              "    <tr>\n",
              "      <th>3</th>\n",
              "      <td>53</td>\n",
              "      <td>Private</td>\n",
              "      <td>11th</td>\n",
              "      <td>7</td>\n",
              "      <td>Married-civ-spouse</td>\n",
              "      <td>Handlers-cleaners</td>\n",
              "      <td>Husband</td>\n",
              "      <td>Black</td>\n",
              "      <td>Male</td>\n",
              "      <td>40</td>\n",
              "      <td>United-States</td>\n",
              "      <td>0</td>\n",
              "    </tr>\n",
              "    <tr>\n",
              "      <th>4</th>\n",
              "      <td>28</td>\n",
              "      <td>Private</td>\n",
              "      <td>Bachelors</td>\n",
              "      <td>13</td>\n",
              "      <td>Married-civ-spouse</td>\n",
              "      <td>Prof-specialty</td>\n",
              "      <td>Wife</td>\n",
              "      <td>Black</td>\n",
              "      <td>Female</td>\n",
              "      <td>40</td>\n",
              "      <td>Cuba</td>\n",
              "      <td>0</td>\n",
              "    </tr>\n",
              "    <tr>\n",
              "      <th>...</th>\n",
              "      <td>...</td>\n",
              "      <td>...</td>\n",
              "      <td>...</td>\n",
              "      <td>...</td>\n",
              "      <td>...</td>\n",
              "      <td>...</td>\n",
              "      <td>...</td>\n",
              "      <td>...</td>\n",
              "      <td>...</td>\n",
              "      <td>...</td>\n",
              "      <td>...</td>\n",
              "      <td>...</td>\n",
              "    </tr>\n",
              "    <tr>\n",
              "      <th>32555</th>\n",
              "      <td>27</td>\n",
              "      <td>Private</td>\n",
              "      <td>Assoc-acdm</td>\n",
              "      <td>12</td>\n",
              "      <td>Married-civ-spouse</td>\n",
              "      <td>Tech-support</td>\n",
              "      <td>Wife</td>\n",
              "      <td>White</td>\n",
              "      <td>Female</td>\n",
              "      <td>38</td>\n",
              "      <td>United-States</td>\n",
              "      <td>0</td>\n",
              "    </tr>\n",
              "    <tr>\n",
              "      <th>32556</th>\n",
              "      <td>40</td>\n",
              "      <td>Private</td>\n",
              "      <td>HS-grad</td>\n",
              "      <td>9</td>\n",
              "      <td>Married-civ-spouse</td>\n",
              "      <td>Machine-op-inspct</td>\n",
              "      <td>Husband</td>\n",
              "      <td>White</td>\n",
              "      <td>Male</td>\n",
              "      <td>40</td>\n",
              "      <td>United-States</td>\n",
              "      <td>1</td>\n",
              "    </tr>\n",
              "    <tr>\n",
              "      <th>32557</th>\n",
              "      <td>58</td>\n",
              "      <td>Private</td>\n",
              "      <td>HS-grad</td>\n",
              "      <td>9</td>\n",
              "      <td>Widowed</td>\n",
              "      <td>Adm-clerical</td>\n",
              "      <td>Unmarried</td>\n",
              "      <td>White</td>\n",
              "      <td>Female</td>\n",
              "      <td>40</td>\n",
              "      <td>United-States</td>\n",
              "      <td>0</td>\n",
              "    </tr>\n",
              "    <tr>\n",
              "      <th>32558</th>\n",
              "      <td>22</td>\n",
              "      <td>Private</td>\n",
              "      <td>HS-grad</td>\n",
              "      <td>9</td>\n",
              "      <td>Never-married</td>\n",
              "      <td>Adm-clerical</td>\n",
              "      <td>Own-child</td>\n",
              "      <td>White</td>\n",
              "      <td>Male</td>\n",
              "      <td>20</td>\n",
              "      <td>United-States</td>\n",
              "      <td>0</td>\n",
              "    </tr>\n",
              "    <tr>\n",
              "      <th>32559</th>\n",
              "      <td>52</td>\n",
              "      <td>Self-emp-inc</td>\n",
              "      <td>HS-grad</td>\n",
              "      <td>9</td>\n",
              "      <td>Married-civ-spouse</td>\n",
              "      <td>Exec-managerial</td>\n",
              "      <td>Wife</td>\n",
              "      <td>White</td>\n",
              "      <td>Female</td>\n",
              "      <td>40</td>\n",
              "      <td>United-States</td>\n",
              "      <td>1</td>\n",
              "    </tr>\n",
              "  </tbody>\n",
              "</table>\n",
              "<p>32560 rows × 12 columns</p>\n",
              "</div>"
            ],
            "text/plain": [
              "       age          workclass    education  education_num  \\\n",
              "0       39          State-gov    Bachelors             13   \n",
              "1       50   Self-emp-not-inc    Bachelors             13   \n",
              "2       38            Private      HS-grad              9   \n",
              "3       53            Private         11th              7   \n",
              "4       28            Private    Bachelors             13   \n",
              "...    ...                ...          ...            ...   \n",
              "32555   27            Private   Assoc-acdm             12   \n",
              "32556   40            Private      HS-grad              9   \n",
              "32557   58            Private      HS-grad              9   \n",
              "32558   22            Private      HS-grad              9   \n",
              "32559   52       Self-emp-inc      HS-grad              9   \n",
              "\n",
              "            marital_status          occupation    relationship    race  \\\n",
              "0            Never-married        Adm-clerical   Not-in-family   White   \n",
              "1       Married-civ-spouse     Exec-managerial         Husband   White   \n",
              "2                 Divorced   Handlers-cleaners   Not-in-family   White   \n",
              "3       Married-civ-spouse   Handlers-cleaners         Husband   Black   \n",
              "4       Married-civ-spouse      Prof-specialty            Wife   Black   \n",
              "...                    ...                 ...             ...     ...   \n",
              "32555   Married-civ-spouse        Tech-support            Wife   White   \n",
              "32556   Married-civ-spouse   Machine-op-inspct         Husband   White   \n",
              "32557              Widowed        Adm-clerical       Unmarried   White   \n",
              "32558        Never-married        Adm-clerical       Own-child   White   \n",
              "32559   Married-civ-spouse     Exec-managerial            Wife   White   \n",
              "\n",
              "        gender  hours_per_week  native_country  greater_than_50k  \n",
              "0         Male              40   United-States                 0  \n",
              "1         Male              13   United-States                 0  \n",
              "2         Male              40   United-States                 0  \n",
              "3         Male              40   United-States                 0  \n",
              "4       Female              40            Cuba                 0  \n",
              "...        ...             ...             ...               ...  \n",
              "32555   Female              38   United-States                 0  \n",
              "32556     Male              40   United-States                 1  \n",
              "32557   Female              40   United-States                 0  \n",
              "32558     Male              20   United-States                 0  \n",
              "32559   Female              40   United-States                 1  \n",
              "\n",
              "[32560 rows x 12 columns]"
            ]
          },
          "execution_count": 3,
          "metadata": {},
          "output_type": "execute_result"
        }
      ],
      "source": [
        "path = 'https://raw.githubusercontent.com/prof-apartida/data-exercises/main/' # Where the data is located\n",
        "df = pd.read_csv(path+'census.csv') # Import the data and store it into an object called \"df\" (dataframe)\n",
        "df"
      ]
    },
    {
      "cell_type": "markdown",
      "metadata": {
        "id": "WGLmChO0uEMD"
      },
      "source": [
        "We can see that there are several columns with different data types. For example, we have strings (text) such as workclass, education, marital status, etc. therefore, in these cases, we can see categorical data.\n",
        "\n",
        "In other cases, we have numerical format, like in age, education level (number), hours per week and greater than 50K.\n",
        "\n",
        "So, we want to have some statistical information on our numerical variables:"
      ]
    },
    {
      "cell_type": "code",
      "execution_count": 4,
      "metadata": {
        "colab": {
          "base_uri": "https://localhost:8080/",
          "height": 300
        },
        "id": "hsF22mvHXYMd",
        "outputId": "4f509a92-45d6-408a-f66b-93ea327e8e7a"
      },
      "outputs": [
        {
          "data": {
            "text/html": [
              "<div>\n",
              "<style scoped>\n",
              "    .dataframe tbody tr th:only-of-type {\n",
              "        vertical-align: middle;\n",
              "    }\n",
              "\n",
              "    .dataframe tbody tr th {\n",
              "        vertical-align: top;\n",
              "    }\n",
              "\n",
              "    .dataframe thead th {\n",
              "        text-align: right;\n",
              "    }\n",
              "</style>\n",
              "<table border=\"1\" class=\"dataframe\">\n",
              "  <thead>\n",
              "    <tr style=\"text-align: right;\">\n",
              "      <th></th>\n",
              "      <th>age</th>\n",
              "      <th>education_num</th>\n",
              "      <th>hours_per_week</th>\n",
              "      <th>greater_than_50k</th>\n",
              "    </tr>\n",
              "  </thead>\n",
              "  <tbody>\n",
              "    <tr>\n",
              "      <th>count</th>\n",
              "      <td>32560.000000</td>\n",
              "      <td>32560.000000</td>\n",
              "      <td>32560.000000</td>\n",
              "      <td>32560.000000</td>\n",
              "    </tr>\n",
              "    <tr>\n",
              "      <th>mean</th>\n",
              "      <td>38.581849</td>\n",
              "      <td>10.080682</td>\n",
              "      <td>40.437469</td>\n",
              "      <td>0.240817</td>\n",
              "    </tr>\n",
              "    <tr>\n",
              "      <th>std</th>\n",
              "      <td>13.640593</td>\n",
              "      <td>2.572760</td>\n",
              "      <td>12.347618</td>\n",
              "      <td>0.427586</td>\n",
              "    </tr>\n",
              "    <tr>\n",
              "      <th>min</th>\n",
              "      <td>17.000000</td>\n",
              "      <td>1.000000</td>\n",
              "      <td>1.000000</td>\n",
              "      <td>0.000000</td>\n",
              "    </tr>\n",
              "    <tr>\n",
              "      <th>25%</th>\n",
              "      <td>28.000000</td>\n",
              "      <td>9.000000</td>\n",
              "      <td>40.000000</td>\n",
              "      <td>0.000000</td>\n",
              "    </tr>\n",
              "    <tr>\n",
              "      <th>50%</th>\n",
              "      <td>37.000000</td>\n",
              "      <td>10.000000</td>\n",
              "      <td>40.000000</td>\n",
              "      <td>0.000000</td>\n",
              "    </tr>\n",
              "    <tr>\n",
              "      <th>75%</th>\n",
              "      <td>48.000000</td>\n",
              "      <td>12.000000</td>\n",
              "      <td>45.000000</td>\n",
              "      <td>0.000000</td>\n",
              "    </tr>\n",
              "    <tr>\n",
              "      <th>max</th>\n",
              "      <td>90.000000</td>\n",
              "      <td>16.000000</td>\n",
              "      <td>99.000000</td>\n",
              "      <td>1.000000</td>\n",
              "    </tr>\n",
              "  </tbody>\n",
              "</table>\n",
              "</div>"
            ],
            "text/plain": [
              "                age  education_num  hours_per_week  greater_than_50k\n",
              "count  32560.000000   32560.000000    32560.000000      32560.000000\n",
              "mean      38.581849      10.080682       40.437469          0.240817\n",
              "std       13.640593       2.572760       12.347618          0.427586\n",
              "min       17.000000       1.000000        1.000000          0.000000\n",
              "25%       28.000000       9.000000       40.000000          0.000000\n",
              "50%       37.000000      10.000000       40.000000          0.000000\n",
              "75%       48.000000      12.000000       45.000000          0.000000\n",
              "max       90.000000      16.000000       99.000000          1.000000"
            ]
          },
          "execution_count": 4,
          "metadata": {},
          "output_type": "execute_result"
        }
      ],
      "source": [
        "df.describe()"
      ]
    },
    {
      "cell_type": "markdown",
      "metadata": {},
      "source": [
        "As we can see from the table:\n",
        "1. Mean age is 38.581849 and the standard deviation for age is 13.640593.\n",
        "2. Mean hours_per_week is 40.437469 and the standard deviation for hours_per_week is 12.347618.\n"
      ]
    },
    {
      "cell_type": "markdown",
      "metadata": {
        "id": "mxRd4eZoB-pb"
      },
      "source": [
        "### 2. Random selection of different sample sizes"
      ]
    },
    {
      "cell_type": "markdown",
      "metadata": {
        "id": "DpaWZJe-zBeD"
      },
      "source": [
        "Another way to do it:"
      ]
    },
    {
      "cell_type": "code",
      "execution_count": 5,
      "metadata": {
        "id": "tiApt3fYIC55"
      },
      "outputs": [],
      "source": [
        "def select_samples(array, percent):\n",
        "  print('Number of items selected: ',int(len(array)*percent))\n",
        "  return np.random.choice(population, size=int(len(array)*percent), replace=False)\n",
        "\n",
        "def stats(array):\n",
        "  mean = int(array.mean())\n",
        "  num = []\n",
        "  for i in range(0, len(array)):\n",
        "    num.append((array[i] - mean)**2)\n",
        "  std = round(math.sqrt((np.array(num)).sum()/(len(array)-1)),2)\n",
        "  print('Mean =',mean,'SD =',std)\n",
        "\n",
        "  stats = [mean, std]\n",
        "  return stats"
      ]
    },
    {
      "cell_type": "code",
      "execution_count": 6,
      "metadata": {
        "colab": {
          "base_uri": "https://localhost:8080/"
        },
        "id": "yFUK89d0E43W",
        "outputId": "672a99e4-8141-4cc8-9d58-1acd9d1f6f6d"
      },
      "outputs": [
        {
          "name": "stdout",
          "output_type": "stream",
          "text": [
            "Number of items selected:  325\n",
            "Number of items selected:  3256\n",
            "Number of items selected:  22792\n",
            "Number of items selected:  30932\n",
            "Mean = 38 SD = 14.22\n",
            "Mean = 38 SD = 13.64\n",
            "Mean = 38 SD = 13.64\n",
            "Mean = 38 SD = 13.64\n"
          ]
        }
      ],
      "source": [
        "population = df['age']\n",
        "s_1 = select_samples(population,0.01)\n",
        "s_2 = select_samples(population,0.10)\n",
        "s_3 = select_samples(population,0.70)\n",
        "s_4 = select_samples(population,0.95)\n",
        "\n",
        "stats_1 = stats(s_1)\n",
        "stats_2 = stats(s_2)\n",
        "stats_3 = stats(s_3)\n",
        "stats_4 = stats(s_4)"
      ]
    },
    {
      "cell_type": "code",
      "execution_count": 7,
      "metadata": {
        "colab": {
          "base_uri": "https://localhost:8080/"
        },
        "id": "0tWEKX8MIiTk",
        "outputId": "da7ca038-c2db-4828-d086-22e17b311490"
      },
      "outputs": [
        {
          "name": "stdout",
          "output_type": "stream",
          "text": [
            "Number of items selected:  325\n",
            "Number of items selected:  3256\n",
            "Number of items selected:  22792\n",
            "Number of items selected:  30932\n",
            "Mean = 39 SD = 11.43\n",
            "Mean = 40 SD = 12.47\n",
            "Mean = 40 SD = 12.35\n",
            "Mean = 40 SD = 12.38\n"
          ]
        }
      ],
      "source": [
        "population = df['hours_per_week']\n",
        "s_1 = select_samples(population,0.01)\n",
        "s_2 = select_samples(population,0.10)\n",
        "s_3 = select_samples(population,0.70)\n",
        "s_4 = select_samples(population,0.95)\n",
        "\n",
        "stats_1 = stats(s_1)\n",
        "stats_2 = stats(s_2)\n",
        "stats_3 = stats(s_3)\n",
        "stats_4 = stats(s_4)"
      ]
    },
    {
      "cell_type": "markdown",
      "metadata": {},
      "source": [
        "Based on the outputs generated for different sample sizes, it is evident that as sample size increases, the mean and standard deviation (SD) values are more stable, reducing variability seen in smaller samples. Large samples result in more consistent means and SDs, which shows a lower effect of selection bias. This further tells us about the importance of using larger sample sizes to achieve reliable and consistent statistical measures that accurately reflect the overall population."
      ]
    },
    {
      "cell_type": "markdown",
      "metadata": {
        "id": "sSSw6sgcCFrT"
      },
      "source": [
        "### 3. Sample size calculation"
      ]
    },
    {
      "cell_type": "markdown",
      "metadata": {
        "id": "N8tRVK4xzqig"
      },
      "source": [
        "Calculate the sample size needed for a confidence level of 95% and an error of 3%.\n",
        "\n",
        "First, we are going to calculate n, which is the sample size needed in the case we have no idea of the population size:"
      ]
    },
    {
      "cell_type": "code",
      "execution_count": 8,
      "metadata": {
        "colab": {
          "base_uri": "https://localhost:8080/"
        },
        "id": "SRIbi2OFzvqJ",
        "outputId": "f82a939e-3c47-4fcf-c3f0-5d764167ae97"
      },
      "outputs": [
        {
          "name": "stdout",
          "output_type": "stream",
          "text": [
            "The sample size needed for a confidence level of 95.0%, an error of 3.0% and supposing that we don't know the population size is: 1067.0\n"
          ]
        }
      ],
      "source": [
        "CL = 0.95 # Confidence level\n",
        "p = 0.5 # expected prevalence, 50% if unkown\n",
        "e = 0.03 # error\n",
        "N = len(df)\n",
        "\n",
        "alpha_half = (1-CL)/2 # Calculate alpha/2\n",
        "Z_score = st.norm.ppf(alpha_half+CL) # Get the Z value (tables) for the specified alpha\n",
        "n = ((Z_score**2)*p*(1-p))/e**2 # Calculate the value of n (look at the formula in the slides)\n",
        "\n",
        "print(f\"The sample size needed for a confidence level of {CL*100}%, an error of {e*100}% and supposing that we don't know the population size is: {round(n,0)}\")"
      ]
    },
    {
      "cell_type": "markdown",
      "metadata": {
        "id": "p6tWY8F20xj1"
      },
      "source": [
        "Now, we are going to adapt the formula in the case we know the population size:"
      ]
    },
    {
      "cell_type": "code",
      "execution_count": 9,
      "metadata": {
        "colab": {
          "base_uri": "https://localhost:8080/"
        },
        "id": "wtehyvMU02Nh",
        "outputId": "a4e039c3-088c-49ac-affa-50c7c382891f"
      },
      "outputs": [
        {
          "name": "stdout",
          "output_type": "stream",
          "text": [
            "The sample size needed for a confidence level of 95.0%, an error of 3.0% and for a population size of 32560 is: 1033.0\n"
          ]
        }
      ],
      "source": [
        "sample_size = n/(1+(((Z_score**2)*p*(1-p))/((e**2)*N)))\n",
        "\n",
        "print(f\"The sample size needed for a confidence level of {CL*100}%, an error of {e*100}% and for a population size of {N} is: {round(sample_size,0)}\")"
      ]
    },
    {
      "cell_type": "markdown",
      "metadata": {
        "id": "mOuPCXyw1Igo"
      },
      "source": [
        "We can create a function:"
      ]
    },
    {
      "cell_type": "code",
      "execution_count": 10,
      "metadata": {
        "id": "VP12hWUkWkZt"
      },
      "outputs": [],
      "source": [
        "def sample_calculator(N,CL,p,e):\n",
        "  alpha_half = (1-CL)/2\n",
        "  Z_score = st.norm.ppf(alpha_half+CL)\n",
        "  n = ((Z_score**2)*p*(1-p))/e**2\n",
        "\n",
        "  try:\n",
        "    if N == '?': # In the case we don't know the population size\n",
        "      print('sample size for unknown population size:')\n",
        "      return round(n,0)\n",
        "    else:\n",
        "      sample_size = n/(1+(((Z_score**2)*p*(1-p))/((e**2)*N)))\n",
        "      print('sample size for known population size:')\n",
        "      return round(sample_size,0)\n",
        "  except:\n",
        "    print('Error: check your arguments')"
      ]
    },
    {
      "cell_type": "code",
      "execution_count": 11,
      "metadata": {
        "colab": {
          "base_uri": "https://localhost:8080/"
        },
        "id": "LKJY2AdjXQbs",
        "outputId": "4736323a-ca0b-4894-bdf0-dae79f9081cd"
      },
      "outputs": [
        {
          "name": "stdout",
          "output_type": "stream",
          "text": [
            "sample size for known population size:\n"
          ]
        },
        {
          "data": {
            "text/plain": [
              "1033.0"
            ]
          },
          "execution_count": 11,
          "metadata": {},
          "output_type": "execute_result"
        }
      ],
      "source": [
        "sample_calculator(len(df),0.95,0.5,0.03)"
      ]
    },
    {
      "cell_type": "markdown",
      "metadata": {
        "id": "71g9__qrFmcr"
      },
      "source": [
        "## Exercise 2\n"
      ]
    },
    {
      "cell_type": "markdown",
      "metadata": {
        "id": "xG_qI8tq2vUp"
      },
      "source": [
        "Consider the data census.csv and obtain the following statistics:\n",
        "\n",
        "a.\tHours of work per week by gender: min, max, mean and SD\n",
        "\n",
        "b.\tHistograms: one histogram per gender and another histogram combining both.\n",
        "\n",
        "c.\tTest for normality:\n",
        "\n",
        "i.\tKS, Shapiro-Wilk, Jarque-Bera, Normaltest\n",
        "\n",
        "ii.\tNormality test Graph\n",
        "\n",
        "d. Test if men and women work different hours"
      ]
    },
    {
      "cell_type": "markdown",
      "metadata": {
        "id": "4Kv5s-_y3B2c"
      },
      "source": [
        "First, import the dataset:"
      ]
    },
    {
      "cell_type": "code",
      "execution_count": 12,
      "metadata": {
        "colab": {
          "base_uri": "https://localhost:8080/",
          "height": 296
        },
        "id": "0FdEikC2K6j3",
        "outputId": "84709b61-470c-481a-b00a-359d51669e92"
      },
      "outputs": [
        {
          "data": {
            "text/html": [
              "<div>\n",
              "<style scoped>\n",
              "    .dataframe tbody tr th:only-of-type {\n",
              "        vertical-align: middle;\n",
              "    }\n",
              "\n",
              "    .dataframe tbody tr th {\n",
              "        vertical-align: top;\n",
              "    }\n",
              "\n",
              "    .dataframe thead th {\n",
              "        text-align: right;\n",
              "    }\n",
              "</style>\n",
              "<table border=\"1\" class=\"dataframe\">\n",
              "  <thead>\n",
              "    <tr style=\"text-align: right;\">\n",
              "      <th></th>\n",
              "      <th>age</th>\n",
              "      <th>workclass</th>\n",
              "      <th>education</th>\n",
              "      <th>education_num</th>\n",
              "      <th>marital_status</th>\n",
              "      <th>occupation</th>\n",
              "      <th>relationship</th>\n",
              "      <th>race</th>\n",
              "      <th>gender</th>\n",
              "      <th>hours_per_week</th>\n",
              "      <th>native_country</th>\n",
              "      <th>greater_than_50k</th>\n",
              "    </tr>\n",
              "  </thead>\n",
              "  <tbody>\n",
              "    <tr>\n",
              "      <th>0</th>\n",
              "      <td>39</td>\n",
              "      <td>State-gov</td>\n",
              "      <td>Bachelors</td>\n",
              "      <td>13</td>\n",
              "      <td>Never-married</td>\n",
              "      <td>Adm-clerical</td>\n",
              "      <td>Not-in-family</td>\n",
              "      <td>White</td>\n",
              "      <td>Male</td>\n",
              "      <td>40</td>\n",
              "      <td>United-States</td>\n",
              "      <td>0</td>\n",
              "    </tr>\n",
              "    <tr>\n",
              "      <th>1</th>\n",
              "      <td>50</td>\n",
              "      <td>Self-emp-not-inc</td>\n",
              "      <td>Bachelors</td>\n",
              "      <td>13</td>\n",
              "      <td>Married-civ-spouse</td>\n",
              "      <td>Exec-managerial</td>\n",
              "      <td>Husband</td>\n",
              "      <td>White</td>\n",
              "      <td>Male</td>\n",
              "      <td>13</td>\n",
              "      <td>United-States</td>\n",
              "      <td>0</td>\n",
              "    </tr>\n",
              "    <tr>\n",
              "      <th>2</th>\n",
              "      <td>38</td>\n",
              "      <td>Private</td>\n",
              "      <td>HS-grad</td>\n",
              "      <td>9</td>\n",
              "      <td>Divorced</td>\n",
              "      <td>Handlers-cleaners</td>\n",
              "      <td>Not-in-family</td>\n",
              "      <td>White</td>\n",
              "      <td>Male</td>\n",
              "      <td>40</td>\n",
              "      <td>United-States</td>\n",
              "      <td>0</td>\n",
              "    </tr>\n",
              "    <tr>\n",
              "      <th>3</th>\n",
              "      <td>53</td>\n",
              "      <td>Private</td>\n",
              "      <td>11th</td>\n",
              "      <td>7</td>\n",
              "      <td>Married-civ-spouse</td>\n",
              "      <td>Handlers-cleaners</td>\n",
              "      <td>Husband</td>\n",
              "      <td>Black</td>\n",
              "      <td>Male</td>\n",
              "      <td>40</td>\n",
              "      <td>United-States</td>\n",
              "      <td>0</td>\n",
              "    </tr>\n",
              "    <tr>\n",
              "      <th>4</th>\n",
              "      <td>28</td>\n",
              "      <td>Private</td>\n",
              "      <td>Bachelors</td>\n",
              "      <td>13</td>\n",
              "      <td>Married-civ-spouse</td>\n",
              "      <td>Prof-specialty</td>\n",
              "      <td>Wife</td>\n",
              "      <td>Black</td>\n",
              "      <td>Female</td>\n",
              "      <td>40</td>\n",
              "      <td>Cuba</td>\n",
              "      <td>0</td>\n",
              "    </tr>\n",
              "  </tbody>\n",
              "</table>\n",
              "</div>"
            ],
            "text/plain": [
              "   age          workclass   education  education_num       marital_status  \\\n",
              "0   39          State-gov   Bachelors             13        Never-married   \n",
              "1   50   Self-emp-not-inc   Bachelors             13   Married-civ-spouse   \n",
              "2   38            Private     HS-grad              9             Divorced   \n",
              "3   53            Private        11th              7   Married-civ-spouse   \n",
              "4   28            Private   Bachelors             13   Married-civ-spouse   \n",
              "\n",
              "           occupation    relationship    race   gender  hours_per_week  \\\n",
              "0        Adm-clerical   Not-in-family   White     Male              40   \n",
              "1     Exec-managerial         Husband   White     Male              13   \n",
              "2   Handlers-cleaners   Not-in-family   White     Male              40   \n",
              "3   Handlers-cleaners         Husband   Black     Male              40   \n",
              "4      Prof-specialty            Wife   Black   Female              40   \n",
              "\n",
              "   native_country  greater_than_50k  \n",
              "0   United-States                 0  \n",
              "1   United-States                 0  \n",
              "2   United-States                 0  \n",
              "3   United-States                 0  \n",
              "4            Cuba                 0  "
            ]
          },
          "execution_count": 12,
          "metadata": {},
          "output_type": "execute_result"
        }
      ],
      "source": [
        "df= pd.read_csv(path+'census.csv')\n",
        "df.head()"
      ]
    },
    {
      "cell_type": "markdown",
      "metadata": {
        "id": "2I2yl3bu3Ikm"
      },
      "source": [
        "### a. hours per week by gender"
      ]
    },
    {
      "cell_type": "markdown",
      "metadata": {
        "id": "M_TV2dJN3P1O"
      },
      "source": [
        "We are going to create different datasets for both men and women (in this case, to help us organize our data)"
      ]
    },
    {
      "cell_type": "code",
      "execution_count": 13,
      "metadata": {
        "colab": {
          "base_uri": "https://localhost:8080/"
        },
        "id": "xwYySxO-K_hJ",
        "outputId": "9f38e5f9-afb3-4cc1-a35b-bb2c02f1373a"
      },
      "outputs": [
        {
          "data": {
            "text/plain": [
              "array([' Male', ' Female'], dtype=object)"
            ]
          },
          "execution_count": 13,
          "metadata": {},
          "output_type": "execute_result"
        }
      ],
      "source": [
        "df['gender'].unique() #to know the different values that we have in the dataset"
      ]
    },
    {
      "cell_type": "code",
      "execution_count": 14,
      "metadata": {
        "colab": {
          "base_uri": "https://localhost:8080/",
          "height": 300
        },
        "id": "5YcrNp_aLK3-",
        "outputId": "882defaf-c9c3-4058-a883-b29ac830f93e"
      },
      "outputs": [
        {
          "data": {
            "text/html": [
              "<div>\n",
              "<style scoped>\n",
              "    .dataframe tbody tr th:only-of-type {\n",
              "        vertical-align: middle;\n",
              "    }\n",
              "\n",
              "    .dataframe tbody tr th {\n",
              "        vertical-align: top;\n",
              "    }\n",
              "\n",
              "    .dataframe thead th {\n",
              "        text-align: right;\n",
              "    }\n",
              "</style>\n",
              "<table border=\"1\" class=\"dataframe\">\n",
              "  <thead>\n",
              "    <tr style=\"text-align: right;\">\n",
              "      <th></th>\n",
              "      <th>age</th>\n",
              "      <th>education_num</th>\n",
              "      <th>hours_per_week</th>\n",
              "      <th>greater_than_50k</th>\n",
              "    </tr>\n",
              "  </thead>\n",
              "  <tbody>\n",
              "    <tr>\n",
              "      <th>count</th>\n",
              "      <td>10770.000000</td>\n",
              "      <td>10770.000000</td>\n",
              "      <td>10770.000000</td>\n",
              "      <td>10770.000000</td>\n",
              "    </tr>\n",
              "    <tr>\n",
              "      <th>mean</th>\n",
              "      <td>36.858682</td>\n",
              "      <td>10.035747</td>\n",
              "      <td>36.410028</td>\n",
              "      <td>0.109471</td>\n",
              "    </tr>\n",
              "    <tr>\n",
              "      <th>std</th>\n",
              "      <td>14.014270</td>\n",
              "      <td>2.380065</td>\n",
              "      <td>11.811797</td>\n",
              "      <td>0.312243</td>\n",
              "    </tr>\n",
              "    <tr>\n",
              "      <th>min</th>\n",
              "      <td>17.000000</td>\n",
              "      <td>1.000000</td>\n",
              "      <td>1.000000</td>\n",
              "      <td>0.000000</td>\n",
              "    </tr>\n",
              "    <tr>\n",
              "      <th>25%</th>\n",
              "      <td>25.000000</td>\n",
              "      <td>9.000000</td>\n",
              "      <td>30.000000</td>\n",
              "      <td>0.000000</td>\n",
              "    </tr>\n",
              "    <tr>\n",
              "      <th>50%</th>\n",
              "      <td>35.000000</td>\n",
              "      <td>10.000000</td>\n",
              "      <td>40.000000</td>\n",
              "      <td>0.000000</td>\n",
              "    </tr>\n",
              "    <tr>\n",
              "      <th>75%</th>\n",
              "      <td>46.000000</td>\n",
              "      <td>12.000000</td>\n",
              "      <td>40.000000</td>\n",
              "      <td>0.000000</td>\n",
              "    </tr>\n",
              "    <tr>\n",
              "      <th>max</th>\n",
              "      <td>90.000000</td>\n",
              "      <td>16.000000</td>\n",
              "      <td>99.000000</td>\n",
              "      <td>1.000000</td>\n",
              "    </tr>\n",
              "  </tbody>\n",
              "</table>\n",
              "</div>"
            ],
            "text/plain": [
              "                age  education_num  hours_per_week  greater_than_50k\n",
              "count  10770.000000   10770.000000    10770.000000      10770.000000\n",
              "mean      36.858682      10.035747       36.410028          0.109471\n",
              "std       14.014270       2.380065       11.811797          0.312243\n",
              "min       17.000000       1.000000        1.000000          0.000000\n",
              "25%       25.000000       9.000000       30.000000          0.000000\n",
              "50%       35.000000      10.000000       40.000000          0.000000\n",
              "75%       46.000000      12.000000       40.000000          0.000000\n",
              "max       90.000000      16.000000       99.000000          1.000000"
            ]
          },
          "execution_count": 14,
          "metadata": {},
          "output_type": "execute_result"
        }
      ],
      "source": [
        "df_women = df[df['gender'] == ' Female'] # select only the women\n",
        "df_women.describe()"
      ]
    },
    {
      "cell_type": "code",
      "execution_count": 15,
      "metadata": {
        "colab": {
          "base_uri": "https://localhost:8080/",
          "height": 300
        },
        "id": "LBlRLQuLLlIP",
        "outputId": "5da1bc96-e739-4ac5-d96e-f1cfa2e20315"
      },
      "outputs": [
        {
          "data": {
            "text/html": [
              "<div>\n",
              "<style scoped>\n",
              "    .dataframe tbody tr th:only-of-type {\n",
              "        vertical-align: middle;\n",
              "    }\n",
              "\n",
              "    .dataframe tbody tr th {\n",
              "        vertical-align: top;\n",
              "    }\n",
              "\n",
              "    .dataframe thead th {\n",
              "        text-align: right;\n",
              "    }\n",
              "</style>\n",
              "<table border=\"1\" class=\"dataframe\">\n",
              "  <thead>\n",
              "    <tr style=\"text-align: right;\">\n",
              "      <th></th>\n",
              "      <th>age</th>\n",
              "      <th>education_num</th>\n",
              "      <th>hours_per_week</th>\n",
              "      <th>greater_than_50k</th>\n",
              "    </tr>\n",
              "  </thead>\n",
              "  <tbody>\n",
              "    <tr>\n",
              "      <th>count</th>\n",
              "      <td>21790.000000</td>\n",
              "      <td>21790.000000</td>\n",
              "      <td>21790.000000</td>\n",
              "      <td>21790.000000</td>\n",
              "    </tr>\n",
              "    <tr>\n",
              "      <th>mean</th>\n",
              "      <td>39.433547</td>\n",
              "      <td>10.102891</td>\n",
              "      <td>42.428086</td>\n",
              "      <td>0.305737</td>\n",
              "    </tr>\n",
              "    <tr>\n",
              "      <th>std</th>\n",
              "      <td>13.370630</td>\n",
              "      <td>2.662630</td>\n",
              "      <td>12.119755</td>\n",
              "      <td>0.460729</td>\n",
              "    </tr>\n",
              "    <tr>\n",
              "      <th>min</th>\n",
              "      <td>17.000000</td>\n",
              "      <td>1.000000</td>\n",
              "      <td>1.000000</td>\n",
              "      <td>0.000000</td>\n",
              "    </tr>\n",
              "    <tr>\n",
              "      <th>25%</th>\n",
              "      <td>29.000000</td>\n",
              "      <td>9.000000</td>\n",
              "      <td>40.000000</td>\n",
              "      <td>0.000000</td>\n",
              "    </tr>\n",
              "    <tr>\n",
              "      <th>50%</th>\n",
              "      <td>38.000000</td>\n",
              "      <td>10.000000</td>\n",
              "      <td>40.000000</td>\n",
              "      <td>0.000000</td>\n",
              "    </tr>\n",
              "    <tr>\n",
              "      <th>75%</th>\n",
              "      <td>48.000000</td>\n",
              "      <td>13.000000</td>\n",
              "      <td>49.000000</td>\n",
              "      <td>1.000000</td>\n",
              "    </tr>\n",
              "    <tr>\n",
              "      <th>max</th>\n",
              "      <td>90.000000</td>\n",
              "      <td>16.000000</td>\n",
              "      <td>99.000000</td>\n",
              "      <td>1.000000</td>\n",
              "    </tr>\n",
              "  </tbody>\n",
              "</table>\n",
              "</div>"
            ],
            "text/plain": [
              "                age  education_num  hours_per_week  greater_than_50k\n",
              "count  21790.000000   21790.000000    21790.000000      21790.000000\n",
              "mean      39.433547      10.102891       42.428086          0.305737\n",
              "std       13.370630       2.662630       12.119755          0.460729\n",
              "min       17.000000       1.000000        1.000000          0.000000\n",
              "25%       29.000000       9.000000       40.000000          0.000000\n",
              "50%       38.000000      10.000000       40.000000          0.000000\n",
              "75%       48.000000      13.000000       49.000000          1.000000\n",
              "max       90.000000      16.000000       99.000000          1.000000"
            ]
          },
          "execution_count": 15,
          "metadata": {},
          "output_type": "execute_result"
        }
      ],
      "source": [
        "df_men = df[df['gender'] == ' Male'] # Select only the men\n",
        "df_men.describe()"
      ]
    },
    {
      "cell_type": "code",
      "execution_count": 16,
      "metadata": {
        "colab": {
          "base_uri": "https://localhost:8080/"
        },
        "id": "44PKpWYB3d8-",
        "outputId": "34304fb8-002a-4e49-89ef-bf52d422eb0e"
      },
      "outputs": [
        {
          "name": "stdout",
          "output_type": "stream",
          "text": [
            "Min: 1\n",
            "Max: 99\n",
            "Mean: 36.4100278551532\n",
            "SD: 11.811797273595987\n",
            "Min: 1\n",
            "Max: 99\n",
            "Mean: 42.42808627810923\n",
            "SD: 12.119755243874367\n"
          ]
        }
      ],
      "source": [
        "# We can create a function, so it's easier to get the stats (we also got them with the .describe method)\n",
        "def print_stats(df,variable):\n",
        "  print('Min:',df[variable].min())\n",
        "  print('Max:',df[variable].max())\n",
        "  print('Mean:',df[variable].mean())\n",
        "  print('SD:',df[variable].std())\n",
        "\n",
        "\n",
        "print_stats(df_women,'hours_per_week')\n",
        "print_stats(df_men,'hours_per_week')"
      ]
    },
    {
      "cell_type": "markdown",
      "metadata": {},
      "source": [
        "Hours per week for women:\n",
        "1. Min - 1\n",
        "2. Max - 99\n",
        "3. Mean - 36.41\n",
        "4. SD - 11.81\n",
        "\n",
        "Hours per week for men:\n",
        "1. Min - 1\n",
        "2. Max - 99\n",
        "3. Mean - 42.43\n",
        "4. 12.12"
      ]
    },
    {
      "cell_type": "markdown",
      "metadata": {
        "id": "k-c7K3Me4R3c"
      },
      "source": [
        "### b. Draw the histograms"
      ]
    },
    {
      "cell_type": "code",
      "execution_count": 17,
      "metadata": {
        "colab": {
          "base_uri": "https://localhost:8080/",
          "height": 435
        },
        "id": "daWE175y4Rmg",
        "outputId": "71d12768-2ab1-481a-b97a-94ad86070f43"
      },
      "outputs": [
        {
          "data": {
            "image/png": "[encoded data removed]",
            "text/plain": [
              "<Figure size 640x480 with 1 Axes>"
            ]
          },
          "metadata": {},
          "output_type": "display_data"
        }
      ],
      "source": [
        "# Make a histogram for all men and the variable hours per week\n",
        "\n",
        "plt.show(plt.hist(df_men['hours_per_week']))"
      ]
    },
    {
      "cell_type": "code",
      "execution_count": 18,
      "metadata": {
        "colab": {
          "base_uri": "https://localhost:8080/",
          "height": 430
        },
        "id": "jBoICBcq4jOT",
        "outputId": "55628abb-2615-454b-df03-0501756b1cbb"
      },
      "outputs": [
        {
          "data": {
            "image/png": "[encoded data removed]",
            "text/plain": [
              "<Figure size 640x480 with 1 Axes>"
            ]
          },
          "metadata": {},
          "output_type": "display_data"
        }
      ],
      "source": [
        "# Make a histogram for all women and the variable hours per week\n",
        "\n",
        "plt.show(plt.hist(df_women['hours_per_week']))"
      ]
    },
    {
      "cell_type": "markdown",
      "metadata": {
        "id": "CrEONwwy4uUe"
      },
      "source": [
        "Create a loop to draw the histograms"
      ]
    },
    {
      "cell_type": "code",
      "execution_count": 19,
      "metadata": {
        "colab": {
          "base_uri": "https://localhost:8080/"
        },
        "id": "5d6zs93z49Pb",
        "outputId": "690f1dfe-6f77-4c88-adc4-9a22bf8d6950"
      },
      "outputs": [
        {
          "data": {
            "text/plain": [
              "[' Male', ' Female']"
            ]
          },
          "execution_count": 19,
          "metadata": {},
          "output_type": "execute_result"
        }
      ],
      "source": [
        "gender_list = [' Male',' Female'] # List with the gender values\n",
        "gender_list"
      ]
    },
    {
      "cell_type": "markdown",
      "metadata": {
        "id": "ce7DMUos5Dxb"
      },
      "source": [
        "This is the same as:"
      ]
    },
    {
      "cell_type": "code",
      "execution_count": 20,
      "metadata": {
        "colab": {
          "base_uri": "https://localhost:8080/"
        },
        "id": "9gaItdmV5Dge",
        "outputId": "e3df641b-1daa-43d4-fa36-b9ec693ce86b"
      },
      "outputs": [
        {
          "data": {
            "text/plain": [
              "[' Male', ' Female']"
            ]
          },
          "execution_count": 20,
          "metadata": {},
          "output_type": "execute_result"
        }
      ],
      "source": [
        "gender_list = df.gender.unique().tolist()\n",
        "gender_list"
      ]
    },
    {
      "cell_type": "code",
      "execution_count": 21,
      "metadata": {
        "colab": {
          "base_uri": "https://localhost:8080/",
          "height": 35
        },
        "id": "_B2pjzkn6AMu",
        "outputId": "f6057bd8-e041-48a6-c0db-1ee0879b6600"
      },
      "outputs": [
        {
          "data": {
            "text/plain": [
              "' Male'"
            ]
          },
          "execution_count": 21,
          "metadata": {},
          "output_type": "execute_result"
        }
      ],
      "source": [
        "gender_list[0] # show me the first value of the gender list"
      ]
    },
    {
      "cell_type": "code",
      "execution_count": 22,
      "metadata": {
        "colab": {
          "base_uri": "https://localhost:8080/",
          "height": 35
        },
        "id": "8dbnVvDF6Fyf",
        "outputId": "74e5a054-5c70-4f42-ce2b-b9c78a183828"
      },
      "outputs": [
        {
          "data": {
            "text/plain": [
              "' Female'"
            ]
          },
          "execution_count": 22,
          "metadata": {},
          "output_type": "execute_result"
        }
      ],
      "source": [
        "gender_list[1] # show me the second value of the gender list"
      ]
    },
    {
      "cell_type": "code",
      "execution_count": 23,
      "metadata": {
        "colab": {
          "base_uri": "https://localhost:8080/",
          "height": 600
        },
        "id": "xBRTELVQ6JrJ",
        "outputId": "c12c6a7b-f95d-4f32-f847-6084853c253e"
      },
      "outputs": [
        {
          "data": {
            "text/html": [
              "<div>\n",
              "<style scoped>\n",
              "    .dataframe tbody tr th:only-of-type {\n",
              "        vertical-align: middle;\n",
              "    }\n",
              "\n",
              "    .dataframe tbody tr th {\n",
              "        vertical-align: top;\n",
              "    }\n",
              "\n",
              "    .dataframe thead th {\n",
              "        text-align: right;\n",
              "    }\n",
              "</style>\n",
              "<table border=\"1\" class=\"dataframe\">\n",
              "  <thead>\n",
              "    <tr style=\"text-align: right;\">\n",
              "      <th></th>\n",
              "      <th>age</th>\n",
              "      <th>workclass</th>\n",
              "      <th>education</th>\n",
              "      <th>education_num</th>\n",
              "      <th>marital_status</th>\n",
              "      <th>occupation</th>\n",
              "      <th>relationship</th>\n",
              "      <th>race</th>\n",
              "      <th>gender</th>\n",
              "      <th>hours_per_week</th>\n",
              "      <th>native_country</th>\n",
              "      <th>greater_than_50k</th>\n",
              "    </tr>\n",
              "  </thead>\n",
              "  <tbody>\n",
              "    <tr>\n",
              "      <th>0</th>\n",
              "      <td>39</td>\n",
              "      <td>State-gov</td>\n",
              "      <td>Bachelors</td>\n",
              "      <td>13</td>\n",
              "      <td>Never-married</td>\n",
              "      <td>Adm-clerical</td>\n",
              "      <td>Not-in-family</td>\n",
              "      <td>White</td>\n",
              "      <td>Male</td>\n",
              "      <td>40</td>\n",
              "      <td>United-States</td>\n",
              "      <td>0</td>\n",
              "    </tr>\n",
              "    <tr>\n",
              "      <th>1</th>\n",
              "      <td>50</td>\n",
              "      <td>Self-emp-not-inc</td>\n",
              "      <td>Bachelors</td>\n",
              "      <td>13</td>\n",
              "      <td>Married-civ-spouse</td>\n",
              "      <td>Exec-managerial</td>\n",
              "      <td>Husband</td>\n",
              "      <td>White</td>\n",
              "      <td>Male</td>\n",
              "      <td>13</td>\n",
              "      <td>United-States</td>\n",
              "      <td>0</td>\n",
              "    </tr>\n",
              "    <tr>\n",
              "      <th>2</th>\n",
              "      <td>38</td>\n",
              "      <td>Private</td>\n",
              "      <td>HS-grad</td>\n",
              "      <td>9</td>\n",
              "      <td>Divorced</td>\n",
              "      <td>Handlers-cleaners</td>\n",
              "      <td>Not-in-family</td>\n",
              "      <td>White</td>\n",
              "      <td>Male</td>\n",
              "      <td>40</td>\n",
              "      <td>United-States</td>\n",
              "      <td>0</td>\n",
              "    </tr>\n",
              "    <tr>\n",
              "      <th>3</th>\n",
              "      <td>53</td>\n",
              "      <td>Private</td>\n",
              "      <td>11th</td>\n",
              "      <td>7</td>\n",
              "      <td>Married-civ-spouse</td>\n",
              "      <td>Handlers-cleaners</td>\n",
              "      <td>Husband</td>\n",
              "      <td>Black</td>\n",
              "      <td>Male</td>\n",
              "      <td>40</td>\n",
              "      <td>United-States</td>\n",
              "      <td>0</td>\n",
              "    </tr>\n",
              "    <tr>\n",
              "      <th>7</th>\n",
              "      <td>52</td>\n",
              "      <td>Self-emp-not-inc</td>\n",
              "      <td>HS-grad</td>\n",
              "      <td>9</td>\n",
              "      <td>Married-civ-spouse</td>\n",
              "      <td>Exec-managerial</td>\n",
              "      <td>Husband</td>\n",
              "      <td>White</td>\n",
              "      <td>Male</td>\n",
              "      <td>45</td>\n",
              "      <td>United-States</td>\n",
              "      <td>1</td>\n",
              "    </tr>\n",
              "    <tr>\n",
              "      <th>...</th>\n",
              "      <td>...</td>\n",
              "      <td>...</td>\n",
              "      <td>...</td>\n",
              "      <td>...</td>\n",
              "      <td>...</td>\n",
              "      <td>...</td>\n",
              "      <td>...</td>\n",
              "      <td>...</td>\n",
              "      <td>...</td>\n",
              "      <td>...</td>\n",
              "      <td>...</td>\n",
              "      <td>...</td>\n",
              "    </tr>\n",
              "    <tr>\n",
              "      <th>32552</th>\n",
              "      <td>32</td>\n",
              "      <td>Private</td>\n",
              "      <td>Masters</td>\n",
              "      <td>14</td>\n",
              "      <td>Never-married</td>\n",
              "      <td>Tech-support</td>\n",
              "      <td>Not-in-family</td>\n",
              "      <td>Asian-Pac-Islander</td>\n",
              "      <td>Male</td>\n",
              "      <td>11</td>\n",
              "      <td>Taiwan</td>\n",
              "      <td>0</td>\n",
              "    </tr>\n",
              "    <tr>\n",
              "      <th>32553</th>\n",
              "      <td>53</td>\n",
              "      <td>Private</td>\n",
              "      <td>Masters</td>\n",
              "      <td>14</td>\n",
              "      <td>Married-civ-spouse</td>\n",
              "      <td>Exec-managerial</td>\n",
              "      <td>Husband</td>\n",
              "      <td>White</td>\n",
              "      <td>Male</td>\n",
              "      <td>40</td>\n",
              "      <td>United-States</td>\n",
              "      <td>1</td>\n",
              "    </tr>\n",
              "    <tr>\n",
              "      <th>32554</th>\n",
              "      <td>22</td>\n",
              "      <td>Private</td>\n",
              "      <td>Some-college</td>\n",
              "      <td>10</td>\n",
              "      <td>Never-married</td>\n",
              "      <td>Protective-serv</td>\n",
              "      <td>Not-in-family</td>\n",
              "      <td>White</td>\n",
              "      <td>Male</td>\n",
              "      <td>40</td>\n",
              "      <td>United-States</td>\n",
              "      <td>0</td>\n",
              "    </tr>\n",
              "    <tr>\n",
              "      <th>32556</th>\n",
              "      <td>40</td>\n",
              "      <td>Private</td>\n",
              "      <td>HS-grad</td>\n",
              "      <td>9</td>\n",
              "      <td>Married-civ-spouse</td>\n",
              "      <td>Machine-op-inspct</td>\n",
              "      <td>Husband</td>\n",
              "      <td>White</td>\n",
              "      <td>Male</td>\n",
              "      <td>40</td>\n",
              "      <td>United-States</td>\n",
              "      <td>1</td>\n",
              "    </tr>\n",
              "    <tr>\n",
              "      <th>32558</th>\n",
              "      <td>22</td>\n",
              "      <td>Private</td>\n",
              "      <td>HS-grad</td>\n",
              "      <td>9</td>\n",
              "      <td>Never-married</td>\n",
              "      <td>Adm-clerical</td>\n",
              "      <td>Own-child</td>\n",
              "      <td>White</td>\n",
              "      <td>Male</td>\n",
              "      <td>20</td>\n",
              "      <td>United-States</td>\n",
              "      <td>0</td>\n",
              "    </tr>\n",
              "  </tbody>\n",
              "</table>\n",
              "<p>21790 rows × 12 columns</p>\n",
              "</div>"
            ],
            "text/plain": [
              "       age          workclass      education  education_num  \\\n",
              "0       39          State-gov      Bachelors             13   \n",
              "1       50   Self-emp-not-inc      Bachelors             13   \n",
              "2       38            Private        HS-grad              9   \n",
              "3       53            Private           11th              7   \n",
              "7       52   Self-emp-not-inc        HS-grad              9   \n",
              "...    ...                ...            ...            ...   \n",
              "32552   32            Private        Masters             14   \n",
              "32553   53            Private        Masters             14   \n",
              "32554   22            Private   Some-college             10   \n",
              "32556   40            Private        HS-grad              9   \n",
              "32558   22            Private        HS-grad              9   \n",
              "\n",
              "            marital_status          occupation    relationship  \\\n",
              "0            Never-married        Adm-clerical   Not-in-family   \n",
              "1       Married-civ-spouse     Exec-managerial         Husband   \n",
              "2                 Divorced   Handlers-cleaners   Not-in-family   \n",
              "3       Married-civ-spouse   Handlers-cleaners         Husband   \n",
              "7       Married-civ-spouse     Exec-managerial         Husband   \n",
              "...                    ...                 ...             ...   \n",
              "32552        Never-married        Tech-support   Not-in-family   \n",
              "32553   Married-civ-spouse     Exec-managerial         Husband   \n",
              "32554        Never-married     Protective-serv   Not-in-family   \n",
              "32556   Married-civ-spouse   Machine-op-inspct         Husband   \n",
              "32558        Never-married        Adm-clerical       Own-child   \n",
              "\n",
              "                      race gender  hours_per_week  native_country  \\\n",
              "0                    White   Male              40   United-States   \n",
              "1                    White   Male              13   United-States   \n",
              "2                    White   Male              40   United-States   \n",
              "3                    Black   Male              40   United-States   \n",
              "7                    White   Male              45   United-States   \n",
              "...                    ...    ...             ...             ...   \n",
              "32552   Asian-Pac-Islander   Male              11          Taiwan   \n",
              "32553                White   Male              40   United-States   \n",
              "32554                White   Male              40   United-States   \n",
              "32556                White   Male              40   United-States   \n",
              "32558                White   Male              20   United-States   \n",
              "\n",
              "       greater_than_50k  \n",
              "0                     0  \n",
              "1                     0  \n",
              "2                     0  \n",
              "3                     0  \n",
              "7                     1  \n",
              "...                 ...  \n",
              "32552                 0  \n",
              "32553                 1  \n",
              "32554                 0  \n",
              "32556                 1  \n",
              "32558                 0  \n",
              "\n",
              "[21790 rows x 12 columns]"
            ]
          },
          "execution_count": 23,
          "metadata": {},
          "output_type": "execute_result"
        }
      ],
      "source": [
        "df[(df['gender'] == gender_list[0])] # show me the table where the value gender is equal to the first value of the gender list:"
      ]
    },
    {
      "cell_type": "code",
      "execution_count": 24,
      "metadata": {
        "colab": {
          "base_uri": "https://localhost:8080/",
          "height": 583
        },
        "id": "43zxFlx-6RSK",
        "outputId": "aa275d59-e1b9-44f6-eea4-a7f35850acb7"
      },
      "outputs": [
        {
          "data": {
            "text/html": [
              "<div>\n",
              "<style scoped>\n",
              "    .dataframe tbody tr th:only-of-type {\n",
              "        vertical-align: middle;\n",
              "    }\n",
              "\n",
              "    .dataframe tbody tr th {\n",
              "        vertical-align: top;\n",
              "    }\n",
              "\n",
              "    .dataframe thead th {\n",
              "        text-align: right;\n",
              "    }\n",
              "</style>\n",
              "<table border=\"1\" class=\"dataframe\">\n",
              "  <thead>\n",
              "    <tr style=\"text-align: right;\">\n",
              "      <th></th>\n",
              "      <th>age</th>\n",
              "      <th>workclass</th>\n",
              "      <th>education</th>\n",
              "      <th>education_num</th>\n",
              "      <th>marital_status</th>\n",
              "      <th>occupation</th>\n",
              "      <th>relationship</th>\n",
              "      <th>race</th>\n",
              "      <th>gender</th>\n",
              "      <th>hours_per_week</th>\n",
              "      <th>native_country</th>\n",
              "      <th>greater_than_50k</th>\n",
              "    </tr>\n",
              "  </thead>\n",
              "  <tbody>\n",
              "    <tr>\n",
              "      <th>4</th>\n",
              "      <td>28</td>\n",
              "      <td>Private</td>\n",
              "      <td>Bachelors</td>\n",
              "      <td>13</td>\n",
              "      <td>Married-civ-spouse</td>\n",
              "      <td>Prof-specialty</td>\n",
              "      <td>Wife</td>\n",
              "      <td>Black</td>\n",
              "      <td>Female</td>\n",
              "      <td>40</td>\n",
              "      <td>Cuba</td>\n",
              "      <td>0</td>\n",
              "    </tr>\n",
              "    <tr>\n",
              "      <th>5</th>\n",
              "      <td>37</td>\n",
              "      <td>Private</td>\n",
              "      <td>Masters</td>\n",
              "      <td>14</td>\n",
              "      <td>Married-civ-spouse</td>\n",
              "      <td>Exec-managerial</td>\n",
              "      <td>Wife</td>\n",
              "      <td>White</td>\n",
              "      <td>Female</td>\n",
              "      <td>40</td>\n",
              "      <td>United-States</td>\n",
              "      <td>0</td>\n",
              "    </tr>\n",
              "    <tr>\n",
              "      <th>6</th>\n",
              "      <td>49</td>\n",
              "      <td>Private</td>\n",
              "      <td>9th</td>\n",
              "      <td>5</td>\n",
              "      <td>Married-spouse-absent</td>\n",
              "      <td>Other-service</td>\n",
              "      <td>Not-in-family</td>\n",
              "      <td>Black</td>\n",
              "      <td>Female</td>\n",
              "      <td>16</td>\n",
              "      <td>Jamaica</td>\n",
              "      <td>0</td>\n",
              "    </tr>\n",
              "    <tr>\n",
              "      <th>8</th>\n",
              "      <td>31</td>\n",
              "      <td>Private</td>\n",
              "      <td>Masters</td>\n",
              "      <td>14</td>\n",
              "      <td>Never-married</td>\n",
              "      <td>Prof-specialty</td>\n",
              "      <td>Not-in-family</td>\n",
              "      <td>White</td>\n",
              "      <td>Female</td>\n",
              "      <td>50</td>\n",
              "      <td>United-States</td>\n",
              "      <td>1</td>\n",
              "    </tr>\n",
              "    <tr>\n",
              "      <th>12</th>\n",
              "      <td>23</td>\n",
              "      <td>Private</td>\n",
              "      <td>Bachelors</td>\n",
              "      <td>13</td>\n",
              "      <td>Never-married</td>\n",
              "      <td>Adm-clerical</td>\n",
              "      <td>Own-child</td>\n",
              "      <td>White</td>\n",
              "      <td>Female</td>\n",
              "      <td>30</td>\n",
              "      <td>United-States</td>\n",
              "      <td>0</td>\n",
              "    </tr>\n",
              "    <tr>\n",
              "      <th>...</th>\n",
              "      <td>...</td>\n",
              "      <td>...</td>\n",
              "      <td>...</td>\n",
              "      <td>...</td>\n",
              "      <td>...</td>\n",
              "      <td>...</td>\n",
              "      <td>...</td>\n",
              "      <td>...</td>\n",
              "      <td>...</td>\n",
              "      <td>...</td>\n",
              "      <td>...</td>\n",
              "      <td>...</td>\n",
              "    </tr>\n",
              "    <tr>\n",
              "      <th>32545</th>\n",
              "      <td>37</td>\n",
              "      <td>Private</td>\n",
              "      <td>Assoc-acdm</td>\n",
              "      <td>12</td>\n",
              "      <td>Divorced</td>\n",
              "      <td>Tech-support</td>\n",
              "      <td>Not-in-family</td>\n",
              "      <td>White</td>\n",
              "      <td>Female</td>\n",
              "      <td>40</td>\n",
              "      <td>United-States</td>\n",
              "      <td>0</td>\n",
              "    </tr>\n",
              "    <tr>\n",
              "      <th>32548</th>\n",
              "      <td>43</td>\n",
              "      <td>State-gov</td>\n",
              "      <td>Some-college</td>\n",
              "      <td>10</td>\n",
              "      <td>Divorced</td>\n",
              "      <td>Adm-clerical</td>\n",
              "      <td>Other-relative</td>\n",
              "      <td>White</td>\n",
              "      <td>Female</td>\n",
              "      <td>40</td>\n",
              "      <td>United-States</td>\n",
              "      <td>0</td>\n",
              "    </tr>\n",
              "    <tr>\n",
              "      <th>32555</th>\n",
              "      <td>27</td>\n",
              "      <td>Private</td>\n",
              "      <td>Assoc-acdm</td>\n",
              "      <td>12</td>\n",
              "      <td>Married-civ-spouse</td>\n",
              "      <td>Tech-support</td>\n",
              "      <td>Wife</td>\n",
              "      <td>White</td>\n",
              "      <td>Female</td>\n",
              "      <td>38</td>\n",
              "      <td>United-States</td>\n",
              "      <td>0</td>\n",
              "    </tr>\n",
              "    <tr>\n",
              "      <th>32557</th>\n",
              "      <td>58</td>\n",
              "      <td>Private</td>\n",
              "      <td>HS-grad</td>\n",
              "      <td>9</td>\n",
              "      <td>Widowed</td>\n",
              "      <td>Adm-clerical</td>\n",
              "      <td>Unmarried</td>\n",
              "      <td>White</td>\n",
              "      <td>Female</td>\n",
              "      <td>40</td>\n",
              "      <td>United-States</td>\n",
              "      <td>0</td>\n",
              "    </tr>\n",
              "    <tr>\n",
              "      <th>32559</th>\n",
              "      <td>52</td>\n",
              "      <td>Self-emp-inc</td>\n",
              "      <td>HS-grad</td>\n",
              "      <td>9</td>\n",
              "      <td>Married-civ-spouse</td>\n",
              "      <td>Exec-managerial</td>\n",
              "      <td>Wife</td>\n",
              "      <td>White</td>\n",
              "      <td>Female</td>\n",
              "      <td>40</td>\n",
              "      <td>United-States</td>\n",
              "      <td>1</td>\n",
              "    </tr>\n",
              "  </tbody>\n",
              "</table>\n",
              "<p>10770 rows × 12 columns</p>\n",
              "</div>"
            ],
            "text/plain": [
              "       age      workclass      education  education_num  \\\n",
              "4       28        Private      Bachelors             13   \n",
              "5       37        Private        Masters             14   \n",
              "6       49        Private            9th              5   \n",
              "8       31        Private        Masters             14   \n",
              "12      23        Private      Bachelors             13   \n",
              "...    ...            ...            ...            ...   \n",
              "32545   37        Private     Assoc-acdm             12   \n",
              "32548   43      State-gov   Some-college             10   \n",
              "32555   27        Private     Assoc-acdm             12   \n",
              "32557   58        Private        HS-grad              9   \n",
              "32559   52   Self-emp-inc        HS-grad              9   \n",
              "\n",
              "               marital_status        occupation     relationship    race  \\\n",
              "4          Married-civ-spouse    Prof-specialty             Wife   Black   \n",
              "5          Married-civ-spouse   Exec-managerial             Wife   White   \n",
              "6       Married-spouse-absent     Other-service    Not-in-family   Black   \n",
              "8               Never-married    Prof-specialty    Not-in-family   White   \n",
              "12              Never-married      Adm-clerical        Own-child   White   \n",
              "...                       ...               ...              ...     ...   \n",
              "32545                Divorced      Tech-support    Not-in-family   White   \n",
              "32548                Divorced      Adm-clerical   Other-relative   White   \n",
              "32555      Married-civ-spouse      Tech-support             Wife   White   \n",
              "32557                 Widowed      Adm-clerical        Unmarried   White   \n",
              "32559      Married-civ-spouse   Exec-managerial             Wife   White   \n",
              "\n",
              "        gender  hours_per_week  native_country  greater_than_50k  \n",
              "4       Female              40            Cuba                 0  \n",
              "5       Female              40   United-States                 0  \n",
              "6       Female              16         Jamaica                 0  \n",
              "8       Female              50   United-States                 1  \n",
              "12      Female              30   United-States                 0  \n",
              "...        ...             ...             ...               ...  \n",
              "32545   Female              40   United-States                 0  \n",
              "32548   Female              40   United-States                 0  \n",
              "32555   Female              38   United-States                 0  \n",
              "32557   Female              40   United-States                 0  \n",
              "32559   Female              40   United-States                 1  \n",
              "\n",
              "[10770 rows x 12 columns]"
            ]
          },
          "execution_count": 24,
          "metadata": {},
          "output_type": "execute_result"
        }
      ],
      "source": [
        "df[(df['gender'] == gender_list[1])] # show me the table where the value gender is equal to the second value of the gender list:"
      ]
    },
    {
      "cell_type": "code",
      "execution_count": 25,
      "metadata": {
        "colab": {
          "base_uri": "https://localhost:8080/"
        },
        "id": "wiWJfp1M7KOr",
        "outputId": "1a2d134f-b733-4718-cfa3-ddc6cd51c7c7"
      },
      "outputs": [
        {
          "data": {
            "text/plain": [
              "4        40\n",
              "5        40\n",
              "6        16\n",
              "8        50\n",
              "12       30\n",
              "         ..\n",
              "32545    40\n",
              "32548    40\n",
              "32555    38\n",
              "32557    40\n",
              "32559    40\n",
              "Name: hours_per_week, Length: 10770, dtype: int64"
            ]
          },
          "execution_count": 25,
          "metadata": {},
          "output_type": "execute_result"
        }
      ],
      "source": [
        "df['hours_per_week'][(df['gender'] == gender_list[1])] # select the column hours per week, where the value gender is equal to the first value of the gender list"
      ]
    },
    {
      "cell_type": "code",
      "execution_count": 26,
      "metadata": {
        "colab": {
          "base_uri": "https://localhost:8080/",
          "height": 955
        },
        "id": "hgdU0aHr4sOA",
        "outputId": "e32cb803-1fe3-4bee-b6c6-7591472eee3f"
      },
      "outputs": [
        {
          "name": "stdout",
          "output_type": "stream",
          "text": [
            " Male\n",
            "Mean 42.42808627810923\n",
            "SD 12.119755243874367\n"
          ]
        },
        {
          "data": {
            "image/png": "[encoded data removed]",
            "text/plain": [
              "<Figure size 640x480 with 1 Axes>"
            ]
          },
          "metadata": {},
          "output_type": "display_data"
        },
        {
          "name": "stdout",
          "output_type": "stream",
          "text": [
            " Female\n",
            "Mean 36.4100278551532\n",
            "SD 11.811797273595987\n"
          ]
        },
        {
          "data": {
            "image/png": "[encoded data removed]",
            "text/plain": [
              "<Figure size 640x480 with 1 Axes>"
            ]
          },
          "metadata": {},
          "output_type": "display_data"
        }
      ],
      "source": [
        "i = 0\n",
        "for gender in gender_list:\n",
        "  print(gender_list[i])\n",
        "  print('Mean',df['hours_per_week'][(df['gender'] == gender_list[i])].mean())\n",
        "  print('SD',df['hours_per_week'][(df['gender'] == gender_list[i])].std())\n",
        "  plt.show(plt.hist(df['hours_per_week'][(df['gender'] == gender_list[i])])) # plot the values where the gender is equal to either Male or Female\n",
        "  i += 1"
      ]
    },
    {
      "cell_type": "markdown",
      "metadata": {},
      "source": [
        "Observations:\n",
        "\n",
        "1. Histogram for males and hours per week:\n",
        "  - The distribution of hours worked per week for males shows a peak around the 40-hour mark.\n",
        "  - The mean number of hours worked by males is approximately 42.4 hours with a standard deviation of 12.1 hours.\n",
        "  - There are fewer males working more than 40 hours per week than less than 40 hours per week.\n",
        "\n",
        "2. Histogram for females and hours per week:\n",
        "  - The distribution of hours worked per week for females also peaks around the 40-hour mark but is a lot more concentrated compared to males.\n",
        "  - The mean number of hours worked by females is approximately 36.4 hours with a standard deviation of 11.8 hours.\n",
        "  - The distribution indicates that females are more likely to work slightly fewer hours than males."
      ]
    },
    {
      "cell_type": "code",
      "execution_count": 27,
      "metadata": {
        "colab": {
          "base_uri": "https://localhost:8080/",
          "height": 435
        },
        "id": "DcEIUFv_8zP1",
        "outputId": "57acf271-3db0-4129-f161-9251ec85ad6f"
      },
      "outputs": [
        {
          "data": {
            "image/png": "[encoded data removed]",
            "text/plain": [
              "<Figure size 640x480 with 1 Axes>"
            ]
          },
          "metadata": {},
          "output_type": "display_data"
        }
      ],
      "source": [
        "# Plot both distributions in the same graph:\n",
        "\n",
        "plt.hist(df['hours_per_week'][(df['gender'] == gender_list[0])])\n",
        "plt.hist(df['hours_per_week'][(df['gender'] == gender_list[1])])\n",
        "plt.show()"
      ]
    },
    {
      "cell_type": "markdown",
      "metadata": {},
      "source": [
        "Observations:\n",
        "\n",
        "Combined histogram of males and females:\n",
        "  - When combined, the histogram clearly shows that both males and females predominantly work around 40 hours per week, but males have a broader spread of hours worked.\n",
        "  - The overlay of histograms indicates that males are more likely to work longer hours compared to females.\n",
        "  - This combined view highlights the gender-based differences in work hours, with males having a higher average and greater variability in hours worked per week compared to females."
      ]
    },
    {
      "cell_type": "markdown",
      "metadata": {
        "id": "FIF5aqhDMR8Q"
      },
      "source": [
        "### c. Normality tests"
      ]
    },
    {
      "cell_type": "code",
      "execution_count": 28,
      "metadata": {
        "colab": {
          "base_uri": "https://localhost:8080/"
        },
        "id": "eapcNBOiOaao",
        "outputId": "121a2065-b5dd-4a2d-9b5e-2d7d2f84ffd5"
      },
      "outputs": [
        {
          "data": {
            "text/plain": [
              "True"
            ]
          },
          "execution_count": 28,
          "metadata": {},
          "output_type": "execute_result"
        }
      ],
      "source": [
        "df_men['hours_per_week'].dropna().mean() == df_men['hours_per_week'].mean() # To check if the null values can affect the stats"
      ]
    },
    {
      "cell_type": "code",
      "execution_count": 29,
      "metadata": {
        "colab": {
          "base_uri": "https://localhost:8080/"
        },
        "id": "KlonGKcTOesJ",
        "outputId": "595fef83-03d8-4e9a-8dc5-d45612806dd3"
      },
      "outputs": [
        {
          "data": {
            "text/plain": [
              "True"
            ]
          },
          "execution_count": 29,
          "metadata": {},
          "output_type": "execute_result"
        }
      ],
      "source": [
        "df_men['hours_per_week'].dropna().std() == df_men['hours_per_week'].std()"
      ]
    },
    {
      "cell_type": "markdown",
      "metadata": {
        "id": "QTimOh6E8IvR"
      },
      "source": [
        "**KS test:**"
      ]
    },
    {
      "cell_type": "code",
      "execution_count": 30,
      "metadata": {
        "colab": {
          "base_uri": "https://localhost:8080/"
        },
        "id": "xM5aRdheL-ci",
        "outputId": "5a1b08c3-c584-41e0-e6ef-152a38e4db07"
      },
      "outputs": [
        {
          "data": {
            "text/plain": [
              "0.0"
            ]
          },
          "execution_count": 30,
          "metadata": {},
          "output_type": "execute_result"
        }
      ],
      "source": [
        "# Get the p-value.\n",
        "# Our null hypothesis in this test, is that the data is normally distributed\n",
        "st.kstest(df_men['hours_per_week'],'norm').pvalue"
      ]
    },
    {
      "cell_type": "markdown",
      "metadata": {
        "id": "ewv7vTM38TYJ"
      },
      "source": [
        "In this case, out p-value is 0, therefore, we reject the null hypothesis. This means that we can assume that the data does not follow a normal distribution"
      ]
    },
    {
      "cell_type": "code",
      "execution_count": 31,
      "metadata": {
        "colab": {
          "base_uri": "https://localhost:8080/"
        },
        "id": "83E2XtzXPMQt",
        "outputId": "46e5d62f-9a1b-49a1-9038-5d7854d0c4cb"
      },
      "outputs": [
        {
          "data": {
            "text/plain": [
              "0.0"
            ]
          },
          "execution_count": 31,
          "metadata": {},
          "output_type": "execute_result"
        }
      ],
      "source": [
        "st.kstest(df_women['hours_per_week'],'norm').pvalue"
      ]
    },
    {
      "cell_type": "markdown",
      "metadata": {
        "id": "0pFrUaPA8eKF"
      },
      "source": [
        "Another p-value equal to 0 for the female data. Therefore, none of them follow a normal distribution by applying th KS test."
      ]
    },
    {
      "cell_type": "markdown",
      "metadata": {
        "id": "wohYW8D78ou1"
      },
      "source": [
        "**Shapiro-Wilk** test"
      ]
    },
    {
      "cell_type": "code",
      "execution_count": 32,
      "metadata": {
        "colab": {
          "base_uri": "https://localhost:8080/"
        },
        "id": "3HA6ohlT8uih",
        "outputId": "137f54b7-c19f-406d-d0e4-ea9f7b333d0f"
      },
      "outputs": [
        {
          "name": "stdout",
          "output_type": "stream",
          "text": [
            "0.0\n"
          ]
        },
        {
          "name": "stderr",
          "output_type": "stream",
          "text": [
            "/opt/anaconda3/lib/python3.11/site-packages/scipy/stats/_morestats.py:1882: UserWarning: p-value may not be accurate for N > 5000.\n",
            "  warnings.warn(\"p-value may not be accurate for N > 5000.\")\n"
          ]
        }
      ],
      "source": [
        "data = df_men['hours_per_week']\n",
        "print(st.shapiro(data).pvalue)"
      ]
    },
    {
      "cell_type": "code",
      "execution_count": 33,
      "metadata": {
        "colab": {
          "base_uri": "https://localhost:8080/"
        },
        "id": "IqVoYdni9FlH",
        "outputId": "a6a27b8b-5678-42f4-fb3c-d4f3fcd60984"
      },
      "outputs": [
        {
          "name": "stdout",
          "output_type": "stream",
          "text": [
            "0.0\n"
          ]
        }
      ],
      "source": [
        "data = df_women['hours_per_week']\n",
        "print(st.shapiro(data).pvalue)"
      ]
    },
    {
      "cell_type": "markdown",
      "metadata": {
        "id": "WpThGW129JGl"
      },
      "source": [
        "Nor women, nor men follow a normal distribution according to the Shapiro-Wilk test."
      ]
    },
    {
      "cell_type": "markdown",
      "metadata": {
        "id": "XMIijHym9P82"
      },
      "source": [
        "**Jarque-Bera** test"
      ]
    },
    {
      "cell_type": "code",
      "execution_count": 34,
      "metadata": {
        "colab": {
          "base_uri": "https://localhost:8080/"
        },
        "id": "MEHZ7p-O9DKE",
        "outputId": "d1204f05-4a0a-4635-c93e-34477e5a8d87"
      },
      "outputs": [
        {
          "name": "stdout",
          "output_type": "stream",
          "text": [
            "p-value men 0.0\n",
            "p-value women 0.0\n"
          ]
        }
      ],
      "source": [
        "data = df_men['hours_per_week']\n",
        "print('p-value men',st.jarque_bera(data).pvalue)\n",
        "\n",
        "data = df_men['hours_per_week']\n",
        "print('p-value women',st.jarque_bera(data).pvalue)"
      ]
    },
    {
      "cell_type": "markdown",
      "metadata": {
        "id": "u3l2w42T9gux"
      },
      "source": [
        "None of them follow a normal distribution according to the Jarque-Bera test"
      ]
    },
    {
      "cell_type": "code",
      "execution_count": 35,
      "metadata": {
        "colab": {
          "base_uri": "https://localhost:8080/"
        },
        "id": "Rxl-HIGe9n44",
        "outputId": "de6998c1-7b4e-464a-b28a-16256f595678"
      },
      "outputs": [
        {
          "name": "stdout",
          "output_type": "stream",
          "text": [
            "Normality tests for men\n",
            "0.0\n",
            "0.0\n",
            "0.0\n",
            "0.0\n",
            "Normality tests for women\n",
            "0.0\n",
            "0.0\n",
            "0.0\n",
            "1.7216393222120376e-138\n"
          ]
        }
      ],
      "source": [
        "# Now, we can put all the test in one cell:\n",
        "\n",
        "data = df_men['hours_per_week']\n",
        "print('Normality tests for men')\n",
        "print(st.kstest(data,'norm').pvalue)\n",
        "print(st.shapiro(data).pvalue)\n",
        "print(st.jarque_bera(data).pvalue)\n",
        "print(st.normaltest(data).pvalue)\n",
        "\n",
        "\n",
        "data = df_women['hours_per_week']\n",
        "print('Normality tests for women')\n",
        "print(st.kstest(data,'norm').pvalue)\n",
        "print(st.shapiro(data).pvalue)\n",
        "print(st.jarque_bera(data).pvalue)\n",
        "print(st.normaltest(data).pvalue)"
      ]
    },
    {
      "cell_type": "markdown",
      "metadata": {},
      "source": [
        "Conclusion: The results of multiple normality tests (KS, Shapiro-Wilk, Jarque-Bera) for both men and women show p-values of 0.0 or extremely close to 0."
      ]
    },
    {
      "cell_type": "markdown",
      "metadata": {
        "id": "dYhBr_v49zyn"
      },
      "source": [
        "**Graph for normality tests**"
      ]
    },
    {
      "cell_type": "code",
      "execution_count": 36,
      "metadata": {
        "colab": {
          "base_uri": "https://localhost:8080/",
          "height": 449
        },
        "id": "lbm_cwxe96h0",
        "outputId": "84f65006-8201-4ee7-8cce-21cc0f58ba3c"
      },
      "outputs": [
        {
          "data": {
            "image/png": "[encoded data removed]",
            "text/plain": [
              "<Figure size 640x480 with 1 Axes>"
            ]
          },
          "metadata": {},
          "output_type": "display_data"
        }
      ],
      "source": [
        "# Normality test graph for men\n",
        "plt.show(pg.qqplot(df_men['hours_per_week'], dist='norm', confidence=.95))"
      ]
    },
    {
      "cell_type": "markdown",
      "metadata": {},
      "source": [
        "Conclusion: The Q-Q plot for men's hours per week shows significant deviations from the theoretical normal line, particularly at the tails, indicating non-normality and supporting the earlier statistical test results."
      ]
    },
    {
      "cell_type": "code",
      "execution_count": 37,
      "metadata": {
        "colab": {
          "base_uri": "https://localhost:8080/",
          "height": 449
        },
        "id": "jGv7d4nfP4oT",
        "outputId": "58429f11-4ada-457c-b994-1c791d7bc955"
      },
      "outputs": [
        {
          "data": {
            "image/png": "[encoded data removed]",
            "text/plain": [
              "<Figure size 640x480 with 1 Axes>"
            ]
          },
          "metadata": {},
          "output_type": "display_data"
        }
      ],
      "source": [
        "# Normality test graph for women\n",
        "plt.show(pg.qqplot(df_women['hours_per_week'], dist='norm', confidence=.95))"
      ]
    },
    {
      "cell_type": "markdown",
      "metadata": {},
      "source": [
        "Conclusion: The Q-Q plot for women's hours per week shows noticeable deviations from the normal distribution line, particularly at the tails, indicating non-normality and corroborating the statistical test results."
      ]
    },
    {
      "cell_type": "markdown",
      "metadata": {
        "id": "w7VnV0JH-EdW"
      },
      "source": [
        "### d. Test if men and women work different hours a week"
      ]
    },
    {
      "cell_type": "markdown",
      "metadata": {
        "id": "VUDoSCO9-IQh"
      },
      "source": [
        "Now, we know that none of them follow a Normal distribution, therefore, we are going to propose hypothesis testing based on that.\n",
        "\n",
        "\n",
        "For the T-test, the samples do not have to be normally distributed, given a sufficient sample size. In the t-test, our parameter of interest is the mean. According to the Central Limit Theorem, when repeatedly sampling from a population of any shape, if the sample size if sufficient, the sampling means will resemble the normal distribution.\n",
        "\n",
        "\n",
        "To perform the T-test, we have to know if both samples have the same variances. Therefore, we are going to perform an F test:"
      ]
    },
    {
      "cell_type": "code",
      "execution_count": 38,
      "metadata": {
        "colab": {
          "base_uri": "https://localhost:8080/"
        },
        "id": "rtKsObtg_CsY",
        "outputId": "c481a429-a3c2-4ae0-e0cb-5bd8dc569958"
      },
      "outputs": [
        {
          "data": {
            "text/plain": [
              "1.0528238867420685"
            ]
          },
          "execution_count": 38,
          "metadata": {},
          "output_type": "execute_result"
        }
      ],
      "source": [
        "# We are going to calculate the F statistic for both groups:\n",
        "\n",
        "group_1 = df_men['hours_per_week']\n",
        "group_2 = df_women['hours_per_week']\n",
        "\n",
        "F = group_1.var()/group_2.var() # Variance of group 1 / variance of group 2\n",
        "F"
      ]
    },
    {
      "cell_type": "markdown",
      "metadata": {
        "id": "lG5qJe-c_5Ax"
      },
      "source": [
        "Now, we need to calculate the cumulative distribution function (CDF, the area under the curve) for an F value of 1.05 and n-1 degrees of freedom:"
      ]
    },
    {
      "cell_type": "code",
      "execution_count": 39,
      "metadata": {
        "colab": {
          "base_uri": "https://localhost:8080/"
        },
        "id": "wiGajHkl_pSG",
        "outputId": "750e55ff-aa83-456a-840e-352685bc8f6d"
      },
      "outputs": [
        {
          "data": {
            "text/plain": [
              "0.9989616378304318"
            ]
          },
          "execution_count": 39,
          "metadata": {},
          "output_type": "execute_result"
        }
      ],
      "source": [
        "CDF = st.f.cdf(F, len(group_1)-1, len(group_2)-1)\n",
        "CDF"
      ]
    },
    {
      "cell_type": "markdown",
      "metadata": {
        "id": "eXyxuZgcAJvn"
      },
      "source": [
        "Therefore, our p-value is:"
      ]
    },
    {
      "cell_type": "code",
      "execution_count": 40,
      "metadata": {
        "colab": {
          "base_uri": "https://localhost:8080/"
        },
        "id": "pDBTlGCkALWm",
        "outputId": "0878de48-5c03-40c9-8205-e58ab040cd1a"
      },
      "outputs": [
        {
          "data": {
            "text/plain": [
              "0.0010383621695682077"
            ]
          },
          "execution_count": 40,
          "metadata": {},
          "output_type": "execute_result"
        }
      ],
      "source": [
        "1 - CDF"
      ]
    },
    {
      "cell_type": "markdown",
      "metadata": {
        "id": "bbd0VL_THMqn"
      },
      "source": [
        "Another way to directly calculate our p-value:"
      ]
    },
    {
      "cell_type": "code",
      "execution_count": 41,
      "metadata": {
        "colab": {
          "base_uri": "https://localhost:8080/"
        },
        "id": "YhTMqzlUHMW5",
        "outputId": "9e8fea06-f255-4f3d-d9e1-3fc3b1c7edca"
      },
      "outputs": [
        {
          "data": {
            "text/plain": [
              "0.0010383621695672339"
            ]
          },
          "execution_count": 41,
          "metadata": {},
          "output_type": "execute_result"
        }
      ],
      "source": [
        "st.f.sf(F, len(group_1)-1, len(group_2)-1)"
      ]
    },
    {
      "cell_type": "markdown",
      "metadata": {
        "id": "qqhZpB3tAVzP"
      },
      "source": [
        "Our p-value is very low, therefore, we can not consider that our variances are equal for men and women.\n",
        "\n",
        "We can create a function to get the p-value for an F test:"
      ]
    },
    {
      "cell_type": "code",
      "execution_count": 42,
      "metadata": {
        "colab": {
          "base_uri": "https://localhost:8080/"
        },
        "id": "mlOvgygbAfFt",
        "outputId": "2d8bbbca-cc31-4743-d022-fbbaf740b7b4"
      },
      "outputs": [
        {
          "name": "stdout",
          "output_type": "stream",
          "text": [
            "F-test p-value: 0.001\n"
          ]
        }
      ],
      "source": [
        "def f_test(group1, group2):\n",
        "   F = group_1.var()/group_2.var()\n",
        "   p_value = 1-st.f.cdf(F, len(group1)-1, len(group2)-1)\n",
        "   return print(f'F-test p-value: {round(p_value,4)}')\n",
        "\n",
        "\n",
        "f_test(group_1, group_2)"
      ]
    },
    {
      "cell_type": "markdown",
      "metadata": {
        "id": "oD6UXjB2BD7u"
      },
      "source": [
        "Now, we can perform our t-test to see if the means are statistically different:"
      ]
    },
    {
      "cell_type": "code",
      "execution_count": 43,
      "metadata": {
        "colab": {
          "base_uri": "https://localhost:8080/"
        },
        "id": "EXwEcFsr-CVe",
        "outputId": "06472b3e-a5a7-450a-c464-bca259eccd63"
      },
      "outputs": [
        {
          "data": {
            "text/plain": [
              "TtestResult(statistic=42.88182763855399, pvalue=0.0, df=21954.614569291927)"
            ]
          },
          "execution_count": 43,
          "metadata": {},
          "output_type": "execute_result"
        }
      ],
      "source": [
        "group_1 = df_men['hours_per_week']\n",
        "group_2 = df_women['hours_per_week']\n",
        "\n",
        "st.ttest_ind(group_1, group_2, equal_var=False)"
      ]
    },
    {
      "cell_type": "code",
      "execution_count": 44,
      "metadata": {
        "colab": {
          "base_uri": "https://localhost:8080/"
        },
        "id": "Ou6ujYzpBx2T",
        "outputId": "bf4258a3-ce3b-46e5-f517-bfe146b3e395"
      },
      "outputs": [
        {
          "data": {
            "text/plain": [
              "0.0"
            ]
          },
          "execution_count": 44,
          "metadata": {},
          "output_type": "execute_result"
        }
      ],
      "source": [
        "st.ttest_ind(group_1, group_2, equal_var=False).pvalue"
      ]
    },
    {
      "cell_type": "markdown",
      "metadata": {
        "id": "AN4gro2iBqSB"
      },
      "source": [
        "Conclusion: We can see that our p-value is zero, therefore, we reject the null hypothesis. Which means that there is a statistically significant difference in the hours worked per week between men and women."
      ]
    },
    {
      "cell_type": "markdown",
      "metadata": {
        "id": "71a0k9n5L7vX"
      },
      "source": [
        "## Exercise 3"
      ]
    },
    {
      "cell_type": "markdown",
      "metadata": {},
      "source": [
        "Test if men or women differ in central tendency for the variable education_num\n",
        "\n",
        "a. Histograms:one histogram per gender and another histogram combining both.\n",
        "\n",
        "b. Calculate the contingency table for the median and test for difference in central tendency.\n",
        "\n",
        "c. Create two piecharts showing the proportions of males with doctorate degrees and women with doctorate degrees. These graphs should not be biased.\n",
        "\n",
        "d. Create two piecharts as the previous, but instead of Doctorate degrees, include the proportion of males and females earning more and less than 50k a year:\n",
        "\n",
        "i. Males that earn more \n",
        "\n",
        "ii. Males that earn less\n",
        "\n",
        "iii. Females that earn more\n",
        "\n",
        "iv. Females that earn less\n",
        "\n",
        "e. Create two piecharts that compares the proportion of doctors and no doctors earning more than 50k:\n",
        "\n",
        "i. Doctors that earn more\n",
        "\n",
        "ii. Doctors that earn less\n",
        "\n",
        "iii. No doctors that earn more\n",
        "\n",
        "iv. No doctors that earn less"
      ]
    },
    {
      "cell_type": "markdown",
      "metadata": {
        "id": "f4M1qrU5CSzb"
      },
      "source": [
        "### Get central tendecy stats (Mean and SD) for education num and Histograms"
      ]
    },
    {
      "cell_type": "code",
      "execution_count": 45,
      "metadata": {
        "colab": {
          "base_uri": "https://localhost:8080/",
          "height": 424
        },
        "id": "TE0eJaGpMGax",
        "outputId": "b1d47e0c-7024-4af4-ef75-1db33f624560"
      },
      "outputs": [
        {
          "data": {
            "text/html": [
              "<div>\n",
              "<style scoped>\n",
              "    .dataframe tbody tr th:only-of-type {\n",
              "        vertical-align: middle;\n",
              "    }\n",
              "\n",
              "    .dataframe tbody tr th {\n",
              "        vertical-align: top;\n",
              "    }\n",
              "\n",
              "    .dataframe thead th {\n",
              "        text-align: right;\n",
              "    }\n",
              "</style>\n",
              "<table border=\"1\" class=\"dataframe\">\n",
              "  <thead>\n",
              "    <tr style=\"text-align: right;\">\n",
              "      <th></th>\n",
              "      <th>age</th>\n",
              "      <th>workclass</th>\n",
              "      <th>education</th>\n",
              "      <th>education_num</th>\n",
              "      <th>marital_status</th>\n",
              "      <th>occupation</th>\n",
              "      <th>relationship</th>\n",
              "      <th>race</th>\n",
              "      <th>gender</th>\n",
              "      <th>hours_per_week</th>\n",
              "      <th>native_country</th>\n",
              "      <th>greater_than_50k</th>\n",
              "    </tr>\n",
              "  </thead>\n",
              "  <tbody>\n",
              "    <tr>\n",
              "      <th>0</th>\n",
              "      <td>39</td>\n",
              "      <td>State-gov</td>\n",
              "      <td>Bachelors</td>\n",
              "      <td>13</td>\n",
              "      <td>Never-married</td>\n",
              "      <td>Adm-clerical</td>\n",
              "      <td>Not-in-family</td>\n",
              "      <td>White</td>\n",
              "      <td>Male</td>\n",
              "      <td>40</td>\n",
              "      <td>United-States</td>\n",
              "      <td>0</td>\n",
              "    </tr>\n",
              "    <tr>\n",
              "      <th>1</th>\n",
              "      <td>50</td>\n",
              "      <td>Self-emp-not-inc</td>\n",
              "      <td>Bachelors</td>\n",
              "      <td>13</td>\n",
              "      <td>Married-civ-spouse</td>\n",
              "      <td>Exec-managerial</td>\n",
              "      <td>Husband</td>\n",
              "      <td>White</td>\n",
              "      <td>Male</td>\n",
              "      <td>13</td>\n",
              "      <td>United-States</td>\n",
              "      <td>0</td>\n",
              "    </tr>\n",
              "    <tr>\n",
              "      <th>2</th>\n",
              "      <td>38</td>\n",
              "      <td>Private</td>\n",
              "      <td>HS-grad</td>\n",
              "      <td>9</td>\n",
              "      <td>Divorced</td>\n",
              "      <td>Handlers-cleaners</td>\n",
              "      <td>Not-in-family</td>\n",
              "      <td>White</td>\n",
              "      <td>Male</td>\n",
              "      <td>40</td>\n",
              "      <td>United-States</td>\n",
              "      <td>0</td>\n",
              "    </tr>\n",
              "    <tr>\n",
              "      <th>3</th>\n",
              "      <td>53</td>\n",
              "      <td>Private</td>\n",
              "      <td>11th</td>\n",
              "      <td>7</td>\n",
              "      <td>Married-civ-spouse</td>\n",
              "      <td>Handlers-cleaners</td>\n",
              "      <td>Husband</td>\n",
              "      <td>Black</td>\n",
              "      <td>Male</td>\n",
              "      <td>40</td>\n",
              "      <td>United-States</td>\n",
              "      <td>0</td>\n",
              "    </tr>\n",
              "    <tr>\n",
              "      <th>4</th>\n",
              "      <td>28</td>\n",
              "      <td>Private</td>\n",
              "      <td>Bachelors</td>\n",
              "      <td>13</td>\n",
              "      <td>Married-civ-spouse</td>\n",
              "      <td>Prof-specialty</td>\n",
              "      <td>Wife</td>\n",
              "      <td>Black</td>\n",
              "      <td>Female</td>\n",
              "      <td>40</td>\n",
              "      <td>Cuba</td>\n",
              "      <td>0</td>\n",
              "    </tr>\n",
              "    <tr>\n",
              "      <th>...</th>\n",
              "      <td>...</td>\n",
              "      <td>...</td>\n",
              "      <td>...</td>\n",
              "      <td>...</td>\n",
              "      <td>...</td>\n",
              "      <td>...</td>\n",
              "      <td>...</td>\n",
              "      <td>...</td>\n",
              "      <td>...</td>\n",
              "      <td>...</td>\n",
              "      <td>...</td>\n",
              "      <td>...</td>\n",
              "    </tr>\n",
              "    <tr>\n",
              "      <th>32555</th>\n",
              "      <td>27</td>\n",
              "      <td>Private</td>\n",
              "      <td>Assoc-acdm</td>\n",
              "      <td>12</td>\n",
              "      <td>Married-civ-spouse</td>\n",
              "      <td>Tech-support</td>\n",
              "      <td>Wife</td>\n",
              "      <td>White</td>\n",
              "      <td>Female</td>\n",
              "      <td>38</td>\n",
              "      <td>United-States</td>\n",
              "      <td>0</td>\n",
              "    </tr>\n",
              "    <tr>\n",
              "      <th>32556</th>\n",
              "      <td>40</td>\n",
              "      <td>Private</td>\n",
              "      <td>HS-grad</td>\n",
              "      <td>9</td>\n",
              "      <td>Married-civ-spouse</td>\n",
              "      <td>Machine-op-inspct</td>\n",
              "      <td>Husband</td>\n",
              "      <td>White</td>\n",
              "      <td>Male</td>\n",
              "      <td>40</td>\n",
              "      <td>United-States</td>\n",
              "      <td>1</td>\n",
              "    </tr>\n",
              "    <tr>\n",
              "      <th>32557</th>\n",
              "      <td>58</td>\n",
              "      <td>Private</td>\n",
              "      <td>HS-grad</td>\n",
              "      <td>9</td>\n",
              "      <td>Widowed</td>\n",
              "      <td>Adm-clerical</td>\n",
              "      <td>Unmarried</td>\n",
              "      <td>White</td>\n",
              "      <td>Female</td>\n",
              "      <td>40</td>\n",
              "      <td>United-States</td>\n",
              "      <td>0</td>\n",
              "    </tr>\n",
              "    <tr>\n",
              "      <th>32558</th>\n",
              "      <td>22</td>\n",
              "      <td>Private</td>\n",
              "      <td>HS-grad</td>\n",
              "      <td>9</td>\n",
              "      <td>Never-married</td>\n",
              "      <td>Adm-clerical</td>\n",
              "      <td>Own-child</td>\n",
              "      <td>White</td>\n",
              "      <td>Male</td>\n",
              "      <td>20</td>\n",
              "      <td>United-States</td>\n",
              "      <td>0</td>\n",
              "    </tr>\n",
              "    <tr>\n",
              "      <th>32559</th>\n",
              "      <td>52</td>\n",
              "      <td>Self-emp-inc</td>\n",
              "      <td>HS-grad</td>\n",
              "      <td>9</td>\n",
              "      <td>Married-civ-spouse</td>\n",
              "      <td>Exec-managerial</td>\n",
              "      <td>Wife</td>\n",
              "      <td>White</td>\n",
              "      <td>Female</td>\n",
              "      <td>40</td>\n",
              "      <td>United-States</td>\n",
              "      <td>1</td>\n",
              "    </tr>\n",
              "  </tbody>\n",
              "</table>\n",
              "<p>32560 rows × 12 columns</p>\n",
              "</div>"
            ],
            "text/plain": [
              "       age          workclass    education  education_num  \\\n",
              "0       39          State-gov    Bachelors             13   \n",
              "1       50   Self-emp-not-inc    Bachelors             13   \n",
              "2       38            Private      HS-grad              9   \n",
              "3       53            Private         11th              7   \n",
              "4       28            Private    Bachelors             13   \n",
              "...    ...                ...          ...            ...   \n",
              "32555   27            Private   Assoc-acdm             12   \n",
              "32556   40            Private      HS-grad              9   \n",
              "32557   58            Private      HS-grad              9   \n",
              "32558   22            Private      HS-grad              9   \n",
              "32559   52       Self-emp-inc      HS-grad              9   \n",
              "\n",
              "            marital_status          occupation    relationship    race  \\\n",
              "0            Never-married        Adm-clerical   Not-in-family   White   \n",
              "1       Married-civ-spouse     Exec-managerial         Husband   White   \n",
              "2                 Divorced   Handlers-cleaners   Not-in-family   White   \n",
              "3       Married-civ-spouse   Handlers-cleaners         Husband   Black   \n",
              "4       Married-civ-spouse      Prof-specialty            Wife   Black   \n",
              "...                    ...                 ...             ...     ...   \n",
              "32555   Married-civ-spouse        Tech-support            Wife   White   \n",
              "32556   Married-civ-spouse   Machine-op-inspct         Husband   White   \n",
              "32557              Widowed        Adm-clerical       Unmarried   White   \n",
              "32558        Never-married        Adm-clerical       Own-child   White   \n",
              "32559   Married-civ-spouse     Exec-managerial            Wife   White   \n",
              "\n",
              "        gender  hours_per_week  native_country  greater_than_50k  \n",
              "0         Male              40   United-States                 0  \n",
              "1         Male              13   United-States                 0  \n",
              "2         Male              40   United-States                 0  \n",
              "3         Male              40   United-States                 0  \n",
              "4       Female              40            Cuba                 0  \n",
              "...        ...             ...             ...               ...  \n",
              "32555   Female              38   United-States                 0  \n",
              "32556     Male              40   United-States                 1  \n",
              "32557   Female              40   United-States                 0  \n",
              "32558     Male              20   United-States                 0  \n",
              "32559   Female              40   United-States                 1  \n",
              "\n",
              "[32560 rows x 12 columns]"
            ]
          },
          "execution_count": 45,
          "metadata": {},
          "output_type": "execute_result"
        }
      ],
      "source": [
        "df= pd.read_csv(path+'census.csv')\n",
        "gender = [' Male',' Female']\n",
        "\n",
        "x = df[['education_num']][(df['gender'] == gender[0])] # Here, the gender value is Male, is the first on the list\n",
        "y = df[['education_num']][(df['gender'] == gender[1])] # Women\n",
        "\n",
        "df"
      ]
    },
    {
      "cell_type": "markdown",
      "metadata": {},
      "source": [
        "### a. Histograms"
      ]
    },
    {
      "cell_type": "code",
      "execution_count": 46,
      "metadata": {
        "colab": {
          "base_uri": "https://localhost:8080/",
          "height": 950
        },
        "id": "xUpXNdpNqGSI",
        "outputId": "00bd3402-2c0e-400c-fe3a-5aa5397ba3fe"
      },
      "outputs": [
        {
          "name": "stdout",
          "output_type": "stream",
          "text": [
            " Male\n",
            "Mean 10.102891234511244\n",
            "SD 2.662569382387412\n"
          ]
        },
        {
          "data": {
            "image/png": "[encoded data removed]",
            "text/plain": [
              "<Figure size 640x480 with 1 Axes>"
            ]
          },
          "metadata": {},
          "output_type": "display_data"
        },
        {
          "name": "stdout",
          "output_type": "stream",
          "text": [
            " Female\n",
            "Mean 10.035747446610957\n",
            "SD 2.379954144534859\n"
          ]
        },
        {
          "data": {
            "image/png": "[encoded data removed]",
            "text/plain": [
              "<Figure size 640x480 with 1 Axes>"
            ]
          },
          "metadata": {},
          "output_type": "display_data"
        }
      ],
      "source": [
        "lst = [x,y]\n",
        "i = 0\n",
        "\n",
        "for data in lst:\n",
        "  print(gender[i])\n",
        "  print('Mean',np.array(data).mean())\n",
        "  print('SD',np.array(data).std())\n",
        "  plt.show(plt.hist(data,len(df['education_num'].unique())))\n",
        "  i += 1"
      ]
    },
    {
      "cell_type": "markdown",
      "metadata": {},
      "source": [
        "Observations:\n",
        "\n",
        "1. Histogram for females and education_num:\n",
        "  - The histogram for females shows a primary peak around 10 years of education and a secondary peak around 13 years.\n",
        "  - The distribution is slightly skewed to the right, with fewer females having less than 8 years or more than 14 years of education.\n",
        "  - The mean education level for females is approximately 10 years, with a standard deviation of about 2.38 years, indicating moderate variability.\n",
        "\n",
        "2. Histogram for males and education_num:\n",
        "  - The histogram for males also shows a primary peak around 10 years of education, similar to females, but with a higher secondary peak around 13-14 years.\n",
        "  - The distribution is slightly more spread out than for females, with noticeable numbers of males across the entire range of education years.\n",
        "  - The mean education level for males is slightly higher at around 10.1 years, with a standard deviation of about 2.66 years, indicating a slightly higher variability compared to females."
      ]
    },
    {
      "cell_type": "code",
      "execution_count": 47,
      "metadata": {
        "colab": {
          "base_uri": "https://localhost:8080/",
          "height": 430
        },
        "id": "7YcIYww1qaL1",
        "outputId": "3729341c-f92e-4bde-8641-f74d08e2d623"
      },
      "outputs": [
        {
          "data": {
            "image/png": "[encoded data removed]",
            "text/plain": [
              "<Figure size 640x480 with 1 Axes>"
            ]
          },
          "metadata": {},
          "output_type": "display_data"
        }
      ],
      "source": [
        "plt.hist(x,10)\n",
        "plt.hist(y,10)\n",
        "plt.show()"
      ]
    },
    {
      "cell_type": "markdown",
      "metadata": {},
      "source": [
        "Observations:\n",
        "\n",
        "Combined histogram of males and females:\n",
        "  - The combined histogram shows the distribution of the education_num variable for both males and females.\n",
        "  - Both genders exhibit a bimodal distribution with peaks around 9-10 years and 13-14 years of education.\n",
        "  - There are more males than females with higher years of education, as indicated by the larger blue bars in the higher bins."
      ]
    },
    {
      "cell_type": "code",
      "execution_count": 48,
      "metadata": {
        "colab": {
          "base_uri": "https://localhost:8080/"
        },
        "id": "2dFqGJ3rnUKC",
        "outputId": "88f0de92-4839-4f8b-dd6c-63a2e93dc413"
      },
      "outputs": [
        {
          "name": "stdout",
          "output_type": "stream",
          "text": [
            "Number of males: education_num    21790\n",
            "dtype: int64\n",
            "Number of females: education_num    10770\n",
            "dtype: int64\n"
          ]
        }
      ],
      "source": [
        "print(f'Number of males: {x.count()}')\n",
        "print(f'Number of females: {y.count()}')"
      ]
    },
    {
      "cell_type": "markdown",
      "metadata": {
        "id": "tWGMdgaNCime"
      },
      "source": [
        "### b. Contingency tables for median values"
      ]
    },
    {
      "cell_type": "code",
      "execution_count": 49,
      "metadata": {
        "colab": {
          "base_uri": "https://localhost:8080/",
          "height": 565
        },
        "id": "1f5peEfMFZQB",
        "outputId": "5235f39e-a8c2-4517-ec3b-1a80ab6dfcb1"
      },
      "outputs": [
        {
          "data": {
            "text/html": [
              "<div>\n",
              "<style scoped>\n",
              "    .dataframe tbody tr th:only-of-type {\n",
              "        vertical-align: middle;\n",
              "    }\n",
              "\n",
              "    .dataframe tbody tr th {\n",
              "        vertical-align: top;\n",
              "    }\n",
              "\n",
              "    .dataframe thead th {\n",
              "        text-align: right;\n",
              "    }\n",
              "</style>\n",
              "<table border=\"1\" class=\"dataframe\">\n",
              "  <thead>\n",
              "    <tr style=\"text-align: right;\">\n",
              "      <th></th>\n",
              "      <th>age</th>\n",
              "      <th>workclass</th>\n",
              "      <th>education</th>\n",
              "      <th>education_num</th>\n",
              "      <th>marital_status</th>\n",
              "      <th>occupation</th>\n",
              "      <th>relationship</th>\n",
              "      <th>race</th>\n",
              "      <th>gender</th>\n",
              "      <th>hours_per_week</th>\n",
              "      <th>native_country</th>\n",
              "      <th>greater_than_50k</th>\n",
              "    </tr>\n",
              "  </thead>\n",
              "  <tbody>\n",
              "    <tr>\n",
              "      <th>0</th>\n",
              "      <td>39</td>\n",
              "      <td>State-gov</td>\n",
              "      <td>Bachelors</td>\n",
              "      <td>13</td>\n",
              "      <td>Never-married</td>\n",
              "      <td>Adm-clerical</td>\n",
              "      <td>Not-in-family</td>\n",
              "      <td>White</td>\n",
              "      <td>Male</td>\n",
              "      <td>40</td>\n",
              "      <td>United-States</td>\n",
              "      <td>0</td>\n",
              "    </tr>\n",
              "    <tr>\n",
              "      <th>1</th>\n",
              "      <td>50</td>\n",
              "      <td>Self-emp-not-inc</td>\n",
              "      <td>Bachelors</td>\n",
              "      <td>13</td>\n",
              "      <td>Married-civ-spouse</td>\n",
              "      <td>Exec-managerial</td>\n",
              "      <td>Husband</td>\n",
              "      <td>White</td>\n",
              "      <td>Male</td>\n",
              "      <td>13</td>\n",
              "      <td>United-States</td>\n",
              "      <td>0</td>\n",
              "    </tr>\n",
              "    <tr>\n",
              "      <th>2</th>\n",
              "      <td>38</td>\n",
              "      <td>Private</td>\n",
              "      <td>HS-grad</td>\n",
              "      <td>9</td>\n",
              "      <td>Divorced</td>\n",
              "      <td>Handlers-cleaners</td>\n",
              "      <td>Not-in-family</td>\n",
              "      <td>White</td>\n",
              "      <td>Male</td>\n",
              "      <td>40</td>\n",
              "      <td>United-States</td>\n",
              "      <td>0</td>\n",
              "    </tr>\n",
              "    <tr>\n",
              "      <th>3</th>\n",
              "      <td>53</td>\n",
              "      <td>Private</td>\n",
              "      <td>11th</td>\n",
              "      <td>7</td>\n",
              "      <td>Married-civ-spouse</td>\n",
              "      <td>Handlers-cleaners</td>\n",
              "      <td>Husband</td>\n",
              "      <td>Black</td>\n",
              "      <td>Male</td>\n",
              "      <td>40</td>\n",
              "      <td>United-States</td>\n",
              "      <td>0</td>\n",
              "    </tr>\n",
              "    <tr>\n",
              "      <th>4</th>\n",
              "      <td>28</td>\n",
              "      <td>Private</td>\n",
              "      <td>Bachelors</td>\n",
              "      <td>13</td>\n",
              "      <td>Married-civ-spouse</td>\n",
              "      <td>Prof-specialty</td>\n",
              "      <td>Wife</td>\n",
              "      <td>Black</td>\n",
              "      <td>Female</td>\n",
              "      <td>40</td>\n",
              "      <td>Cuba</td>\n",
              "      <td>0</td>\n",
              "    </tr>\n",
              "    <tr>\n",
              "      <th>...</th>\n",
              "      <td>...</td>\n",
              "      <td>...</td>\n",
              "      <td>...</td>\n",
              "      <td>...</td>\n",
              "      <td>...</td>\n",
              "      <td>...</td>\n",
              "      <td>...</td>\n",
              "      <td>...</td>\n",
              "      <td>...</td>\n",
              "      <td>...</td>\n",
              "      <td>...</td>\n",
              "      <td>...</td>\n",
              "    </tr>\n",
              "    <tr>\n",
              "      <th>32555</th>\n",
              "      <td>27</td>\n",
              "      <td>Private</td>\n",
              "      <td>Assoc-acdm</td>\n",
              "      <td>12</td>\n",
              "      <td>Married-civ-spouse</td>\n",
              "      <td>Tech-support</td>\n",
              "      <td>Wife</td>\n",
              "      <td>White</td>\n",
              "      <td>Female</td>\n",
              "      <td>38</td>\n",
              "      <td>United-States</td>\n",
              "      <td>0</td>\n",
              "    </tr>\n",
              "    <tr>\n",
              "      <th>32556</th>\n",
              "      <td>40</td>\n",
              "      <td>Private</td>\n",
              "      <td>HS-grad</td>\n",
              "      <td>9</td>\n",
              "      <td>Married-civ-spouse</td>\n",
              "      <td>Machine-op-inspct</td>\n",
              "      <td>Husband</td>\n",
              "      <td>White</td>\n",
              "      <td>Male</td>\n",
              "      <td>40</td>\n",
              "      <td>United-States</td>\n",
              "      <td>1</td>\n",
              "    </tr>\n",
              "    <tr>\n",
              "      <th>32557</th>\n",
              "      <td>58</td>\n",
              "      <td>Private</td>\n",
              "      <td>HS-grad</td>\n",
              "      <td>9</td>\n",
              "      <td>Widowed</td>\n",
              "      <td>Adm-clerical</td>\n",
              "      <td>Unmarried</td>\n",
              "      <td>White</td>\n",
              "      <td>Female</td>\n",
              "      <td>40</td>\n",
              "      <td>United-States</td>\n",
              "      <td>0</td>\n",
              "    </tr>\n",
              "    <tr>\n",
              "      <th>32558</th>\n",
              "      <td>22</td>\n",
              "      <td>Private</td>\n",
              "      <td>HS-grad</td>\n",
              "      <td>9</td>\n",
              "      <td>Never-married</td>\n",
              "      <td>Adm-clerical</td>\n",
              "      <td>Own-child</td>\n",
              "      <td>White</td>\n",
              "      <td>Male</td>\n",
              "      <td>20</td>\n",
              "      <td>United-States</td>\n",
              "      <td>0</td>\n",
              "    </tr>\n",
              "    <tr>\n",
              "      <th>32559</th>\n",
              "      <td>52</td>\n",
              "      <td>Self-emp-inc</td>\n",
              "      <td>HS-grad</td>\n",
              "      <td>9</td>\n",
              "      <td>Married-civ-spouse</td>\n",
              "      <td>Exec-managerial</td>\n",
              "      <td>Wife</td>\n",
              "      <td>White</td>\n",
              "      <td>Female</td>\n",
              "      <td>40</td>\n",
              "      <td>United-States</td>\n",
              "      <td>1</td>\n",
              "    </tr>\n",
              "  </tbody>\n",
              "</table>\n",
              "<p>32560 rows × 12 columns</p>\n",
              "</div>"
            ],
            "text/plain": [
              "       age          workclass    education  education_num  \\\n",
              "0       39          State-gov    Bachelors             13   \n",
              "1       50   Self-emp-not-inc    Bachelors             13   \n",
              "2       38            Private      HS-grad              9   \n",
              "3       53            Private         11th              7   \n",
              "4       28            Private    Bachelors             13   \n",
              "...    ...                ...          ...            ...   \n",
              "32555   27            Private   Assoc-acdm             12   \n",
              "32556   40            Private      HS-grad              9   \n",
              "32557   58            Private      HS-grad              9   \n",
              "32558   22            Private      HS-grad              9   \n",
              "32559   52       Self-emp-inc      HS-grad              9   \n",
              "\n",
              "            marital_status          occupation    relationship    race  \\\n",
              "0            Never-married        Adm-clerical   Not-in-family   White   \n",
              "1       Married-civ-spouse     Exec-managerial         Husband   White   \n",
              "2                 Divorced   Handlers-cleaners   Not-in-family   White   \n",
              "3       Married-civ-spouse   Handlers-cleaners         Husband   Black   \n",
              "4       Married-civ-spouse      Prof-specialty            Wife   Black   \n",
              "...                    ...                 ...             ...     ...   \n",
              "32555   Married-civ-spouse        Tech-support            Wife   White   \n",
              "32556   Married-civ-spouse   Machine-op-inspct         Husband   White   \n",
              "32557              Widowed        Adm-clerical       Unmarried   White   \n",
              "32558        Never-married        Adm-clerical       Own-child   White   \n",
              "32559   Married-civ-spouse     Exec-managerial            Wife   White   \n",
              "\n",
              "        gender  hours_per_week  native_country  greater_than_50k  \n",
              "0         Male              40   United-States                 0  \n",
              "1         Male              13   United-States                 0  \n",
              "2         Male              40   United-States                 0  \n",
              "3         Male              40   United-States                 0  \n",
              "4       Female              40            Cuba                 0  \n",
              "...        ...             ...             ...               ...  \n",
              "32555   Female              38   United-States                 0  \n",
              "32556     Male              40   United-States                 1  \n",
              "32557   Female              40   United-States                 0  \n",
              "32558     Male              20   United-States                 0  \n",
              "32559   Female              40   United-States                 1  \n",
              "\n",
              "[32560 rows x 12 columns]"
            ]
          },
          "execution_count": 49,
          "metadata": {},
          "output_type": "execute_result"
        }
      ],
      "source": [
        "df"
      ]
    },
    {
      "cell_type": "code",
      "execution_count": 50,
      "metadata": {
        "colab": {
          "base_uri": "https://localhost:8080/"
        },
        "id": "P0vGxDyRno5T",
        "outputId": "72b86a96-68dd-4e97-82d0-9fdff3263d3e"
      },
      "outputs": [
        {
          "name": "stdout",
          "output_type": "stream",
          "text": [
            "10.0\n"
          ]
        }
      ],
      "source": [
        "x = df['education_num'][(df['gender'] == ' Male')]\n",
        "y = df['education_num'][(df['gender'] == ' Female')]\n",
        "\n",
        "median = df.education_num.median()\n",
        "print(median)\n",
        "\n",
        "\n"
      ]
    },
    {
      "cell_type": "markdown",
      "metadata": {
        "id": "xHkw8Na3GI0-"
      },
      "source": [
        "show us the number of men and women who are above and below the population median"
      ]
    },
    {
      "cell_type": "code",
      "execution_count": 51,
      "metadata": {
        "colab": {
          "base_uri": "https://localhost:8080/"
        },
        "id": "QSEt9McQF6KK",
        "outputId": "e20f46bc-7cfd-427e-ed37-349acd5a68d3"
      },
      "outputs": [
        {
          "name": "stdout",
          "output_type": "stream",
          "text": [
            "N of items above the median for males: 7262\n",
            "N of items below or equal to the median for males: 14528\n",
            "N of items above the median for females: 3254\n",
            "N of items below or equal to the median for females: 7516\n"
          ]
        }
      ],
      "source": [
        "print(f\"N of items above the median for males: {len([i for i in x if i > median])}\")\n",
        "print(f\"N of items below or equal to the median for males: {len([i for i in x if i <= median])}\")\n",
        "\n",
        "print(f\"N of items above the median for females: {len([i for i in y if i > median])}\")\n",
        "print(f\"N of items below or equal to the median for females: {len([i for i in y if i <= median])}\")"
      ]
    },
    {
      "cell_type": "markdown",
      "metadata": {},
      "source": [
        "Conclusion: \n",
        "\n",
        "A larger proportion of males have education years above the median compared to females. This suggests that males tend to have slightly higher education levels than females. However, a larger proportion of males also have education years below or equal to the median compared to the females. Testing for the difference in central tendency would likely confirm that this observed disparity is statistically significant."
      ]
    },
    {
      "cell_type": "markdown",
      "metadata": {
        "id": "AQaZw8KZCyR8"
      },
      "source": [
        "print the contingency table in other format:\n"
      ]
    },
    {
      "cell_type": "code",
      "execution_count": 52,
      "metadata": {
        "colab": {
          "base_uri": "https://localhost:8080/"
        },
        "id": "GKs-1PPzC36T",
        "outputId": "afe9d73a-95a8-4cb0-aa5d-b55559cfd244"
      },
      "outputs": [
        {
          "data": {
            "text/plain": [
              "array([[ 7262,  3254],\n",
              "       [14528,  7516]])"
            ]
          },
          "execution_count": 52,
          "metadata": {},
          "output_type": "execute_result"
        }
      ],
      "source": [
        "st.median_test(x, y).table"
      ]
    },
    {
      "cell_type": "code",
      "execution_count": 53,
      "metadata": {
        "colab": {
          "base_uri": "https://localhost:8080/"
        },
        "id": "WTRmrMXQL1Ih",
        "outputId": "c2c5bfcf-a3fb-47e3-d1bf-5a8c6e3bee7c"
      },
      "outputs": [
        {
          "data": {
            "text/plain": [
              "array([[ 7262,  3254],\n",
              "       [14528,  7516]])"
            ]
          },
          "execution_count": 53,
          "metadata": {},
          "output_type": "execute_result"
        }
      ],
      "source": [
        "cont_table = st.median_test(x, y).table # save our contingency table\n",
        "cont_table"
      ]
    },
    {
      "cell_type": "code",
      "execution_count": 54,
      "metadata": {
        "colab": {
          "base_uri": "https://localhost:8080/"
        },
        "id": "_5oNPTMRLzju",
        "outputId": "c023922b-8057-4c55-8b41-932a8fad5cad"
      },
      "outputs": [
        {
          "data": {
            "text/plain": [
              "Chi2ContingencyResult(statistic=31.81418870097841, pvalue=1.6964889118656903e-08, dof=1, expected_freq=array([[ 7037.58108108,  3478.41891892],\n",
              "       [14752.41891892,  7291.58108108]]))"
            ]
          },
          "execution_count": 54,
          "metadata": {},
          "output_type": "execute_result"
        }
      ],
      "source": [
        "st.chi2_contingency(cont_table) # Apply the Chi2 test"
      ]
    },
    {
      "cell_type": "code",
      "execution_count": 55,
      "metadata": {
        "colab": {
          "base_uri": "https://localhost:8080/"
        },
        "id": "Y1ag3-tSDt5L",
        "outputId": "e7d1a2e3-6899-42c1-d399-57eac4da8e58"
      },
      "outputs": [
        {
          "data": {
            "text/plain": [
              "array([[ 7037.58108108,  3478.41891892],\n",
              "       [14752.41891892,  7291.58108108]])"
            ]
          },
          "execution_count": 55,
          "metadata": {},
          "output_type": "execute_result"
        }
      ],
      "source": [
        "st.chi2_contingency(cont_table).expected_freq # If we want to see the expected value to compare to the observed one (contingency table)"
      ]
    },
    {
      "cell_type": "code",
      "execution_count": 56,
      "metadata": {
        "colab": {
          "base_uri": "https://localhost:8080/"
        },
        "id": "oM4cBMYJD3PG",
        "outputId": "816a439d-6d07-436c-e271-0316a2d2eb35"
      },
      "outputs": [
        {
          "data": {
            "text/plain": [
              "1.6964889118656903e-08"
            ]
          },
          "execution_count": 56,
          "metadata": {},
          "output_type": "execute_result"
        }
      ],
      "source": [
        "st.chi2_contingency(cont_table).pvalue # To get our p-value"
      ]
    },
    {
      "cell_type": "markdown",
      "metadata": {
        "id": "zyW7mPtvD69o"
      },
      "source": [
        "Our p-value result is very low, close to zero. Therefore, we reject our null hypothesis. We can not assume that both males and females have the same proportions based on education level."
      ]
    },
    {
      "cell_type": "markdown",
      "metadata": {
        "id": "FJo0B8TzG5s8"
      },
      "source": [
        "### c. Pie charts male doctor and female doctor"
      ]
    },
    {
      "cell_type": "code",
      "execution_count": 57,
      "metadata": {
        "colab": {
          "base_uri": "https://localhost:8080/"
        },
        "id": "QMRuw7hlqkd7",
        "outputId": "32fb8327-2d22-4930-9be0-30730ad3c3c8"
      },
      "outputs": [
        {
          "data": {
            "text/plain": [
              "array([' Bachelors', ' HS-grad', ' 11th', ' Masters', ' 9th',\n",
              "       ' Some-college', ' Assoc-acdm', ' Assoc-voc', ' 7th-8th',\n",
              "       ' Doctorate', ' Prof-school', ' 5th-6th', ' 10th', ' 1st-4th',\n",
              "       ' Preschool', ' 12th'], dtype=object)"
            ]
          },
          "execution_count": 57,
          "metadata": {},
          "output_type": "execute_result"
        }
      ],
      "source": [
        "df['education'].unique() # Show us the different values of education levels"
      ]
    },
    {
      "cell_type": "markdown",
      "metadata": {
        "id": "S0ZDrOUAGhWX"
      },
      "source": [
        "Show us how many men and women are PhD holders"
      ]
    },
    {
      "cell_type": "code",
      "execution_count": 58,
      "metadata": {
        "colab": {
          "base_uri": "https://localhost:8080/"
        },
        "id": "fQ3axg_niUxA",
        "outputId": "a78f2f05-a46e-486d-9e7e-5d8f162c81e2"
      },
      "outputs": [
        {
          "name": "stdout",
          "output_type": "stream",
          "text": [
            "86\n",
            "10684\n",
            "327\n",
            "21463\n"
          ]
        }
      ],
      "source": [
        "print(len(df[(df['gender'] == ' Female') & (df['education'] == ' Doctorate')]))\n",
        "print(len(df[(df['gender'] == ' Female') & (df['education'] != ' Doctorate')]))\n",
        "\n",
        "print(len(df[(df['gender'] == ' Male') & (df['education'] == ' Doctorate')]))\n",
        "print(len(df[(df['gender'] == ' Male') & (df['education'] != ' Doctorate')]))\n"
      ]
    },
    {
      "cell_type": "markdown",
      "metadata": {
        "id": "Lgh22G83HhmH"
      },
      "source": [
        "Simple pie chart"
      ]
    },
    {
      "cell_type": "code",
      "execution_count": 59,
      "metadata": {
        "colab": {
          "base_uri": "https://localhost:8080/",
          "height": 406
        },
        "id": "2dMHO00GG-Rq",
        "outputId": "ab5f07b1-7a74-4033-bb64-062c7dd85da7"
      },
      "outputs": [
        {
          "data": {
            "image/png": "[encoded data removed]",
            "text/plain": [
              "<Figure size 640x480 with 1 Axes>"
            ]
          },
          "metadata": {},
          "output_type": "display_data"
        }
      ],
      "source": [
        "# Women\n",
        "fig, ax = plt.subplots()\n",
        "# plot the values 86 and 10684, which are how many women hold PhD and how many don't\n",
        "ax.pie([86, 10684], labels=['PhD', 'No PhD'])\n",
        "plt.show()"
      ]
    },
    {
      "cell_type": "markdown",
      "metadata": {
        "id": "n92IRpKQHjmc"
      },
      "source": [
        "Adding labels and notation"
      ]
    },
    {
      "cell_type": "code",
      "execution_count": 60,
      "metadata": {
        "colab": {
          "base_uri": "https://localhost:8080/",
          "height": 428
        },
        "id": "zW1t-6pgHjTu",
        "outputId": "d9168f44-083e-4def-bf91-5d2ff0bb6fd5"
      },
      "outputs": [
        {
          "data": {
            "image/png": "[encoded data removed]",
            "text/plain": [
              "<Figure size 640x480 with 1 Axes>"
            ]
          },
          "metadata": {},
          "output_type": "display_data"
        }
      ],
      "source": [
        "fig, ax = plt.subplots()\n",
        "ax.pie([86, 10684], labels=['PhD', 'No PhD'])\n",
        "plt.title(f'Proportion of Women with and without Doctorate degrees')\n",
        "\n",
        "plt.show()"
      ]
    },
    {
      "cell_type": "code",
      "execution_count": 61,
      "metadata": {
        "colab": {
          "base_uri": "https://localhost:8080/",
          "height": 428
        },
        "id": "qo4JpKudHvAM",
        "outputId": "5e7173d2-6cdc-40c2-f840-0946b66a714b"
      },
      "outputs": [
        {
          "data": {
            "image/png": "[encoded data removed]",
            "text/plain": [
              "<Figure size 640x480 with 1 Axes>"
            ]
          },
          "metadata": {},
          "output_type": "display_data"
        }
      ],
      "source": [
        "fig, ax = plt.subplots()\n",
        "ax.pie([86, 10684], labels=['PhD', 'No PhD'], autopct='%1.1f%%') # Add percent\n",
        "plt.title(f'Proportion of Women with and without Doctorate degrees')\n",
        "\n",
        "plt.show()"
      ]
    },
    {
      "cell_type": "code",
      "execution_count": 62,
      "metadata": {
        "colab": {
          "base_uri": "https://localhost:8080/",
          "height": 428
        },
        "id": "3RGOur-KH1Cc",
        "outputId": "5e285d7d-d035-49d4-f708-3c61587c42ec"
      },
      "outputs": [
        {
          "data": {
            "image/png": "[encoded data removed]",
            "text/plain": [
              "<Figure size 640x480 with 1 Axes>"
            ]
          },
          "metadata": {},
          "output_type": "display_data"
        }
      ],
      "source": [
        "fig, ax = plt.subplots()\n",
        "ax.pie([86, 10684], labels=['PhD', 'No PhD'], autopct='%1.1f%%', startangle=90) # Put first slice in a 90º angle\n",
        "plt.title(f'Proportion of Women with and without Doctorate degrees')\n",
        "\n",
        "plt.show()"
      ]
    },
    {
      "cell_type": "markdown",
      "metadata": {
        "id": "Zpde4y58IG1S"
      },
      "source": [
        "Now, more automatic calculation and loop:"
      ]
    },
    {
      "cell_type": "code",
      "execution_count": 63,
      "metadata": {
        "colab": {
          "base_uri": "https://localhost:8080/",
          "height": 839
        },
        "id": "ht1Art7CrF16",
        "outputId": "c9b4f033-232d-4531-b3b5-9d5eb21a1c35"
      },
      "outputs": [
        {
          "data": {
            "image/png": "[encoded data removed]",
            "text/plain": [
              "<Figure size 640x480 with 1 Axes>"
            ]
          },
          "metadata": {},
          "output_type": "display_data"
        },
        {
          "data": {
            "image/png": "[encoded data removed]",
            "text/plain": [
              "<Figure size 640x480 with 1 Axes>"
            ]
          },
          "metadata": {},
          "output_type": "display_data"
        }
      ],
      "source": [
        "import matplotlib.pyplot as plt\n",
        "\n",
        "\n",
        "for gender in [' Male',' Female']:\n",
        "  labels = 'Doctor', 'No PhD'\n",
        "  sizes = [len(df[(df['gender'] == gender) & (df['education'] == ' Doctorate')]),\n",
        "           len(df[(df['gender'] == gender) & (df['education'] != ' Doctorate')])]\n",
        "\n",
        "  fig, ax = plt.subplots()\n",
        "  ax.pie(sizes, labels=labels, autopct='%1.1f%%', startangle=90)\n",
        "\n",
        "  plt.title(f'Proportion of {gender}s with and without Doctorate degree')\n",
        "  plt.show()\n"
      ]
    },
    {
      "cell_type": "markdown",
      "metadata": {},
      "source": [
        "Conclusion:\n",
        "\n",
        "1. Males with and without doctorate degrees: The graph indicates a small minority of males (1.5%) have a Doctorate degree, while the majority (98.5%) do not.\n",
        "\n",
        "2. Females with and without doctorate degrees: The graph shows us an overwhelming majortiy of females (99.2%) do not have a Doctorate degree, with only 0.8% having achieved this level of education.\n",
        "\n",
        "Therefore, overall more men have doctorate degrees than women."
      ]
    },
    {
      "cell_type": "markdown",
      "metadata": {},
      "source": [
        "### d. Piecharts male and female earning more than 50K a year"
      ]
    },
    {
      "cell_type": "code",
      "execution_count": 64,
      "metadata": {
        "colab": {
          "base_uri": "https://localhost:8080/",
          "height": 839
        },
        "id": "fV2YALtjt_MB",
        "outputId": "c208a05f-678d-4278-a1e8-64943d3031d8"
      },
      "outputs": [
        {
          "data": {
            "image/png": "[encoded data removed]",
            "text/plain": [
              "<Figure size 640x480 with 1 Axes>"
            ]
          },
          "metadata": {},
          "output_type": "display_data"
        },
        {
          "data": {
            "image/png": "[encoded data removed]",
            "text/plain": [
              "<Figure size 640x480 with 1 Axes>"
            ]
          },
          "metadata": {},
          "output_type": "display_data"
        }
      ],
      "source": [
        "for gender in [' Male',' Female']:\n",
        "  labels = 'More', '50k or less'\n",
        "  sizes = [len(df[(df['gender'] == gender) & (df['greater_than_50k'] == 1)]),\n",
        "         len(df[(df['gender'] == gender) & (df['greater_than_50k'] != 1)])]\n",
        "\n",
        "  fig, ax = plt.subplots()\n",
        "  ax.pie(sizes, labels=labels, autopct='%1.1f%%', startangle=90)\n",
        "  ax.axis('equal')  # Equal aspect ratio ensures that pie is drawn as a circle.\n",
        "\n",
        "  plt.title(f'Proportion of {gender}s earning more than 50k a year')\n",
        "  plt.show()"
      ]
    },
    {
      "cell_type": "markdown",
      "metadata": {},
      "source": [
        "Conclusion:\n",
        "\n",
        "1. Males earning more than 50k a year: The first graph reveals that a significant majority of males (69.4%) earn $50k or less annually, with only 30.6% earning more than $50k.\n",
        "\n",
        "2. Females earning more than 50k a year: A small percentage (10.9%) of females earn more than 50k per year, while a large majority, 89.1%, earn 50k or less.\n",
        "\n",
        "Therefore, overall women earning 50k or more are fewer than men earning 50k or more."
      ]
    },
    {
      "cell_type": "markdown",
      "metadata": {},
      "source": [
        "### e. Piecharts doctor and no doctor earning more than 50K a year"
      ]
    },
    {
      "cell_type": "code",
      "execution_count": 65,
      "metadata": {
        "colab": {
          "base_uri": "https://localhost:8080/",
          "height": 839
        },
        "id": "5-lN9LYqu8T1",
        "outputId": "a6cf6022-c117-49c1-8cf3-a1ea3b222684"
      },
      "outputs": [
        {
          "data": {
            "image/png": "[encoded data removed]",
            "text/plain": [
              "<Figure size 640x480 with 1 Axes>"
            ]
          },
          "metadata": {},
          "output_type": "display_data"
        },
        {
          "data": {
            "image/png": "[encoded data removed]",
            "text/plain": [
              "<Figure size 640x480 with 1 Axes>"
            ]
          },
          "metadata": {},
          "output_type": "display_data"
        }
      ],
      "source": [
        "labels = 'Less', 'More'\n",
        "sizes = [len(df[(df['education'] == ' Doctorate') & (df['greater_than_50k'] == 0)]),\n",
        "        len(df[(df['education'] == ' Doctorate') & (df['greater_than_50k'] != 0)])]\n",
        "\n",
        "fig, ax = plt.subplots()\n",
        "ax.pie(sizes, labels=labels, autopct='%1.1f%%', startangle=90)\n",
        "ax.axis('equal')  # Equal aspect ratio ensures that pie is drawn as a circle.\n",
        "\n",
        "plt.title(f'Proportion of Doctors earning more than 50k a year')\n",
        "plt.show()\n",
        "\n",
        "\n",
        "\n",
        "labels = 'Less', 'More'\n",
        "sizes = [len(df[(df['education'] != ' Doctorate') & (df['greater_than_50k'] == 0)]),\n",
        "        len(df[(df['education'] != ' Doctorate') & (df['greater_than_50k'] != 0)])]\n",
        "\n",
        "fig, ax = plt.subplots()\n",
        "ax.pie(sizes, labels=labels, autopct='%1.1f%%', startangle=90)\n",
        "ax.axis('equal')  # Equal aspect ratio ensures that pie is drawn as a circle.\n",
        "\n",
        "plt.title(f'Proportion of no doctors earning more than 50k a year')\n",
        "plt.show()"
      ]
    },
    {
      "cell_type": "markdown",
      "metadata": {},
      "source": [
        "Conclusion:\n",
        "\n",
        "1. Doctors earning more or less than 50k a year: A significant majority (74.1%) of doctors earn more than 50k per year, whereas only 25.9% earn less than 50k.\n",
        "\n",
        "2. Non doctors earning more or less than 50k a year: Only 23.4% of non-doctors earn more than 50k per year, while the majority (76.6%) earn less than 50k.\n",
        "\n",
        "Therefore, overall more people with doctorate degrees earn 50k or more than people without doctorate degrees."
      ]
    }
  ],
  "metadata": {
    "colab": {
      "collapsed_sections": [
        "_lmU2SzbGiOj",
        "Ei4_jcJ9nBn-",
        "jqLtohbyBk2_",
        "rHgjx7_oZ5WH",
        "SuqxJnDmaBnK",
        "y9tf1HuU9u3P",
        "vqi3ShOJTJUU",
        "1J6l9w2HTtue",
        "xo09WSxmUGNk",
        "QMexuNs3LSjw",
        "WzPDY5qFaW8K",
        "J7HGLkYyaf0j",
        "EUb6uzdWjzP8",
        "358Vl3LV5pRx",
        "VuU79fNED0tK",
        "YpwTdwPyaoOv",
        "KjzJSIBgasDO"
      ],
      "provenance": [],
      "toc_visible": true
    },
    "kernelspec": {
      "display_name": "Python 3 (ipykernel)",
      "language": "python",
      "name": "python3"
    },
    "language_info": {
      "codemirror_mode": {
        "name": "ipython",
        "version": 3
      },
      "file_extension": ".py",
      "mimetype": "text/x-python",
      "name": "python",
      "nbconvert_exporter": "python",
      "pygments_lexer": "ipython3",
      "version": "3.1.undefined"
    },
    "widgets": {
      "application/vnd.jupyter.widget-state+json": {
        "a34e98348b77465392856fa8bfbd4a34": {
          "model_module": "@jupyter-widgets/output",
          "model_module_version": "1.0.0",
          "model_name": "OutputModel",
          "state": {
            "_dom_classes": [],
            "_model_module": "@jupyter-widgets/output",
            "_model_module_version": "1.0.0",
            "_model_name": "OutputModel",
            "_view_count": null,
            "_view_module": "@jupyter-widgets/output",
            "_view_module_version": "1.0.0",
            "_view_name": "OutputView",
            "layout": "IPY_MODEL_e74c84fb45804beb90daaa54d3c09894",
            "msg_id": "",
            "outputs": [
              {
                "data": {
                  "text/html": "<pre style=\"white-space:pre;overflow-x:auto;line-height:normal;font-family:Menlo,'DejaVu Sans Mono',consolas,'Courier New',monospace\">     <span style=\"color: #f92672; text-decoration-color: #f92672\">━━━━━━━━━━━━━━━━━━━━━━━━━━━━━━━━━━━━━━━</span><span style=\"color: #3a3a3a; text-decoration-color: #3a3a3a\">╺</span> <span style=\"color: #008000; text-decoration-color: #008000\">194.6/198.9 kB</span> <span style=\"color: #800000; text-decoration-color: #800000\">7.2 MB/s</span> eta <span style=\"color: #008080; text-decoration-color: #008080\">0:00:01</span>\n</pre>\n",
                  "text/plain": "     \u001b[38;2;249;38;114m━━━━━━━━━━━━━━━━━━━━━━━━━━━━━━━━━━━━━━━\u001b[0m\u001b[38;5;237m╺\u001b[0m \u001b[32m194.6/198.9 kB\u001b[0m \u001b[31m7.2 MB/s\u001b[0m eta \u001b[36m0:00:01\u001b[0m\n"
                },
                "metadata": {},
                "output_type": "display_data"
              }
            ]
          }
        },
        "e74c84fb45804beb90daaa54d3c09894": {
          "model_module": "@jupyter-widgets/base",
          "model_module_version": "1.2.0",
          "model_name": "LayoutModel",
          "state": {
            "_model_module": "@jupyter-widgets/base",
            "_model_module_version": "1.2.0",
            "_model_name": "LayoutModel",
            "_view_count": null,
            "_view_module": "@jupyter-widgets/base",
            "_view_module_version": "1.2.0",
            "_view_name": "LayoutView",
            "align_content": null,
            "align_items": null,
            "align_self": null,
            "border": null,
            "bottom": null,
            "display": null,
            "flex": null,
            "flex_flow": null,
            "grid_area": null,
            "grid_auto_columns": null,
            "grid_auto_flow": null,
            "grid_auto_rows": null,
            "grid_column": null,
            "grid_gap": null,
            "grid_row": null,
            "grid_template_areas": null,
            "grid_template_columns": null,
            "grid_template_rows": null,
            "height": null,
            "justify_content": null,
            "justify_items": null,
            "left": null,
            "margin": null,
            "max_height": null,
            "max_width": null,
            "min_height": null,
            "min_width": null,
            "object_fit": null,
            "object_position": null,
            "order": null,
            "overflow": null,
            "overflow_x": null,
            "overflow_y": null,
            "padding": null,
            "right": null,
            "top": null,
            "visibility": null,
            "width": null
          }
        }
      }
    }
  },
  "nbformat": 4,
  "nbformat_minor": 0
}
